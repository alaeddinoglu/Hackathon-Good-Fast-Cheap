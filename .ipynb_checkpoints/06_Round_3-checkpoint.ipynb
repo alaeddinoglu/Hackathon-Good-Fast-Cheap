{
 "cells": [
  {
   "cell_type": "markdown",
   "metadata": {},
   "source": [
    "Round 2:\n",
    "\n",
    "1. age\n",
    "2. education-num\n",
    "3. marital-status\n",
    "4. sex\n",
    "5. workclass\n",
    "6. hours per week\n",
    "7. capital gains\n",
    "8. relationship\n",
    "9. ms_married_civ_spouse^2\n",
    "10. ms_married_civ_spouse * education_num\n",
    "11. age * education_num\n",
    "\n",
    "\n",
    "Kemal - KNN/Random Forest\n",
    "Jonna - Logistic/Bagged DecTree"
   ]
  },
  {
   "cell_type": "code",
   "execution_count": 122,
   "metadata": {},
   "outputs": [],
   "source": [
    "import os\n",
    "import sys\n",
    "import numpy as np\n",
    "import pandas as pd\n",
    "import seaborn as sns\n",
    "import matplotlib.pyplot as plt\n",
    "\n",
    "from sklearn.model_selection import train_test_split, cross_val_score\n",
    "from sklearn.ensemble import RandomForestClassifier, RandomForestRegressor, AdaBoostRegressor, AdaBoostClassifier\n",
    "from sklearn.preprocessing import StandardScaler\n",
    "from sklearn.linear_model import LinearRegression, LogisticRegression\n",
    "from sklearn import metrics\n",
    "from sklearn.metrics import f1_score\n",
    "from sklearn.neighbors import KNeighborsClassifier, KNeighborsRegressor\n",
    "from sklearn.tree import DecisionTreeRegressor, DecisionTreeClassifier\n",
    "from sklearn.ensemble import BaggingRegressor, BaggingClassifier\n",
    "from sklearn import svm\n",
    "from sklearn.metrics import confusion_matrix, classification_report, accuracy_score, roc_curve\n",
    "pd.set_option(\"display.max_rows\", 100)\n",
    "\n",
    "sns.set()\n"
   ]
  },
  {
   "cell_type": "code",
   "execution_count": 123,
   "metadata": {},
   "outputs": [],
   "source": [
    "dataset = pd.read_csv('./data/large_train_sample.csv')\n",
    "\n",
    "test_data = pd.read_csv('./data/test_data.csv')\n",
    "\n",
    "dataset.columns=[c.lower().replace('-','_') for c in dataset.columns]\n",
    "test_data.columns=[c.lower().replace('-','_') for c in test_data.columns]\n",
    "categorical_features = ['workclass', 'education',\n",
    "       'marital_status', 'occupation', 'relationship', 'sex', 'native_country']"
   ]
  },
  {
   "cell_type": "code",
   "execution_count": 124,
   "metadata": {},
   "outputs": [],
   "source": [
    "for c in categorical_features:\n",
    "    dataset[c]=dataset[c].replace('?','MISSING')\n",
    "    #test_data[c]=test_data[c].replace('?',None)\n",
    "\n",
    "dataset[categorical_features]=dataset[categorical_features].astype(str)\n",
    "test_data[categorical_features]=dataset[categorical_features].astype(str)\n",
    "\n",
    "dataset=dataset.dropna()\n",
    "#dataset['workclass']\n",
    "#test_data=test_data.dropna()"
   ]
  },
  {
   "cell_type": "code",
   "execution_count": 125,
   "metadata": {},
   "outputs": [
    {
     "data": {
      "text/plain": [
       "age               0\n",
       "workclass         0\n",
       "fnlwgt            0\n",
       "education         0\n",
       "education_num     0\n",
       "marital_status    0\n",
       "occupation        0\n",
       "relationship      0\n",
       "sex               0\n",
       "capital_gain      0\n",
       "capital_loss      0\n",
       "hours_per_week    0\n",
       "native_country    0\n",
       "wage              0\n",
       "dtype: int64"
      ]
     },
     "execution_count": 125,
     "metadata": {},
     "output_type": "execute_result"
    }
   ],
   "source": [
    "dataset.isnull().sum()"
   ]
  },
  {
   "cell_type": "code",
   "execution_count": 126,
   "metadata": {},
   "outputs": [],
   "source": [
    "dataset['wage']=dataset['wage'].astype(str)\n",
    "dataset['wage']=dataset['wage'].str.strip()\n",
    "dataset['wage']=dataset['wage'].map({'<=50K':0,'>50K':1})"
   ]
  },
  {
   "cell_type": "code",
   "execution_count": 127,
   "metadata": {},
   "outputs": [],
   "source": [
    "dataset[categorical_features]=dataset[categorical_features].apply(lambda x: x.str.strip())\n",
    "test_data[categorical_features]=test_data[categorical_features].apply(lambda x: x.str.strip())"
   ]
  },
  {
   "cell_type": "code",
   "execution_count": 128,
   "metadata": {},
   "outputs": [],
   "source": [
    "dataset['sex']=dataset['sex'].map({'Male':1,'Female':0})\n",
    "test_data['sex']=test_data['sex'].map({'Male':1,'Female':0})"
   ]
  },
  {
   "cell_type": "code",
   "execution_count": 129,
   "metadata": {},
   "outputs": [],
   "source": [
    "dataset['marital_status']=dataset['marital_status'].str.lower().str.replace('-','_')\n",
    "test_data['marital_status']=test_data['marital_status'].str.lower().str.replace('-','_')"
   ]
  },
  {
   "cell_type": "code",
   "execution_count": 130,
   "metadata": {},
   "outputs": [],
   "source": [
    "marital_status = pd.get_dummies(dataset['marital_status'],drop_first=True, prefix='ms')\n",
    "test_data_ms = pd.get_dummies(test_data['marital_status'],drop_first=True, prefix='ms')"
   ]
  },
  {
   "cell_type": "code",
   "execution_count": 131,
   "metadata": {},
   "outputs": [],
   "source": [
    "dataset['workclass_rebinned']=dataset['workclass'].map({'Private':'private',\n",
    "                          'State-gov':'gov',\n",
    "                          'Federal-gov':'gov',\n",
    "                          'Local-gov':'gov',\n",
    "                          'Self-emp-not-inc':'self',\n",
    "                          'Self-emp-inc':'self',\n",
    "                          'Without-pay':'other',\n",
    "                          'Never-worked':'other',\n",
    "                          'MISSING':'other'              \n",
    "                         })"
   ]
  },
  {
   "cell_type": "code",
   "execution_count": 132,
   "metadata": {},
   "outputs": [],
   "source": [
    "workclass = pd.get_dummies(dataset['workclass_rebinned'],drop_first=True,prefix='wc')\n",
    "test_data_wc = pd.get_dummies(dataset['workclass_rebinned'],drop_first=True,prefix='wc')"
   ]
  },
  {
   "cell_type": "code",
   "execution_count": 133,
   "metadata": {},
   "outputs": [],
   "source": [
    "dataset = dataset.join(marital_status).join(workclass)\n",
    "test_data = test_data.join(test_data_ms).join(test_data_wc)"
   ]
  },
  {
   "cell_type": "code",
   "execution_count": 134,
   "metadata": {},
   "outputs": [],
   "source": [
    "dataset['ms_married_civ_spouse * education_num * age'] = dataset['ms_married_civ_spouse']*dataset['education_num']* dataset['age']\n",
    "test_data['ms_married_civ_spouse * education_num * age'] = test_data['ms_married_civ_spouse']*test_data['education_num']* dataset['age']\n",
    "\n",
    "dataset['ms_married_civ_spouse * education_num * sex'] = dataset['ms_married_civ_spouse']*dataset['education_num']* dataset['sex']\n",
    "test_data['ms_married_civ_spouse * education_num * sex'] = test_data['ms_married_civ_spouse']*test_data['education_num']* dataset['sex']\n",
    "\n",
    "dataset['ms_married_civ_spouse * education_num'] = dataset['ms_married_civ_spouse']*dataset['education_num']\n",
    "test_data['ms_married_civ_spouse * education_num'] = test_data['ms_married_civ_spouse']*test_data['education_num']\n",
    "\n",
    "dataset['ms_married_civ_spouse**2'] =dataset['ms_married_civ_spouse']**2\n",
    "test_data['ms_married_civ_spouse**2'] =test_data['ms_married_civ_spouse']**2\n",
    "\n",
    "dataset['age * education_num'] =  dataset['age']*dataset['education_num']\n",
    "test_data['age * education_num'] =  test_data['age']*test_data['education_num']\n",
    "\n",
    "dataset['ms_married_civ_spouse * sex'] = dataset['ms_married_civ_spouse']*dataset['sex']\n",
    "test_data['ms_married_civ_spouse * sex'] = test_data['ms_married_civ_spouse']*test_data['sex']"
   ]
  },
  {
   "cell_type": "markdown",
   "metadata": {},
   "source": [
    "- ms_married_civ_spouse^2\n",
    "- ms_married_civ_spouse * education_num\n",
    "- age * education_num\n",
    "- ms_married_civ_spouse * sex\n",
    "- ms_married_civ_spouse * education_num * age\n",
    "- ms_married_civ_spouse * education_num * sex"
   ]
  },
  {
   "cell_type": "code",
   "execution_count": 135,
   "metadata": {},
   "outputs": [],
   "source": [
    "features = ['age','education_num','sex','hours_per_week','capital_gain','ms_married_civ_spouse**2',\n",
    "            'ms_married_civ_spouse * education_num','age * education_num','ms_married_civ_spouse * sex',\n",
    "            'ms_married_civ_spouse * education_num * age']+\\\n",
    "list(marital_status.columns)+\\\n",
    "list(workclass.columns)"
   ]
  },
  {
   "cell_type": "code",
   "execution_count": 136,
   "metadata": {},
   "outputs": [
    {
     "data": {
      "text/plain": [
       "19"
      ]
     },
     "execution_count": 136,
     "metadata": {},
     "output_type": "execute_result"
    }
   ],
   "source": [
    "len(features)"
   ]
  },
  {
   "cell_type": "code",
   "execution_count": 151,
   "metadata": {},
   "outputs": [],
   "source": [
    "corr_coef=dataset.corr()"
   ]
  },
  {
   "cell_type": "code",
   "execution_count": 156,
   "metadata": {},
   "outputs": [
    {
     "data": {
      "text/plain": [
       "<matplotlib.axes._subplots.AxesSubplot at 0x1a25360610>"
      ]
     },
     "execution_count": 156,
     "metadata": {},
     "output_type": "execute_result"
    },
    {
     "data": {
      "image/png": "[encoded data removed]",
      "text/plain": [
       "<Figure size 400x600 with 2 Axes>"
      ]
     },
     "metadata": {},
     "output_type": "display_data"
    }
   ],
   "source": [
    "corr_coef=dataset.corr()\n",
    "plt.figure(figsize=(4,6), dpi=100)\n",
    "sns.heatmap(corr_coef[['wage']].sort_values('wage',ascending=False),annot=True,cmap=\"BuPu\")"
   ]
  },
  {
   "cell_type": "code",
   "execution_count": 138,
   "metadata": {},
   "outputs": [
    {
     "name": "stdout",
     "output_type": "stream",
     "text": [
      "Fitting LOGREG_Jonna on X_train_sc\n",
      "LOGREG_Jonna Scores:\n",
      "Train:0.8403825903825903\n",
      "Test:0.8378544375063978\n",
      "F1 score Train:0.6316322397731875\n",
      "F1 score Test:0.6151603498542274\n",
      "Mean_CV_Score:0.8404705176467939\n",
      "Best Params LOGREG_Jonna:\n",
      "{'LOGREG_Jonna__C': 0.1, 'LOGREG_Jonna__penalty': 'l1', 'LOGREG_Jonna__solver': 'liblinear'}\n",
      "Fitting KNN_Kemal on X_train_sc\n",
      "KNN_Kemal Scores:\n",
      "Train:0.8491575991575991\n",
      "Test:0.8377520728836114\n",
      "F1 score Train:0.655372894947875\n",
      "F1 score Test:0.6183481820370816\n",
      "Mean_CV_Score:0.8359511647830054\n",
      "Best Params KNN_Kemal:\n",
      "{'KNN_Kemal__algorithm': 'brute', 'KNN_Kemal__leaf_size': 30, 'KNN_Kemal__metric': 'euclidean', 'KNN_Kemal__n_neighbors': 21, 'KNN_Kemal__p': 2, 'KNN_Kemal__weights': 'uniform'}\n",
      "Fitting Adaboost_Reem on X_train_sc\n",
      "Adaboost_Reem Scores:\n",
      "Train:0.9322569322569323\n",
      "Test:0.8259801412631794\n",
      "F1 score Train:0.8576958525345622\n",
      "F1 score Test:0.6155585707824515\n",
      "Mean_CV_Score:0.8258162085497723\n",
      "Best Params Adaboost_Reem:\n",
      "{'Adaboost_Reem__algorithm': 'SAMME', 'Adaboost_Reem__base_estimator': RandomForestClassifier(), 'Adaboost_Reem__learning_rate': 1, 'Adaboost_Reem__n_estimators': 5}\n",
      "Fitting SVC_Reem on X_train_sc\n",
      "SVC_Reem Scores:\n",
      "Train:0.8453843453843454\n",
      "Test:0.8448152318558706\n",
      "F1 score Train:0.6256639048226047\n",
      "F1 score Test:0.6114812916453102\n",
      "Mean_CV_Score:0.8448140565686435\n",
      "Best Params SVC_Reem:\n",
      "{'SVC_Reem__C': 0.5, 'SVC_Reem__degree': 2, 'SVC_Reem__kernel': 'rbf', 'SVC_Reem__tol': 0.001}\n"
     ]
    }
   ],
   "source": [
    "import matplotlib.pyplot as plt\n",
    "\n",
    "from sklearn import datasets\n",
    "from sklearn.linear_model import LogisticRegression\n",
    "from sklearn.preprocessing import StandardScaler\n",
    "from sklearn.neighbors import KNeighborsClassifier\n",
    "from sklearn.tree import DecisionTreeClassifier\n",
    "from sklearn.ensemble import BaggingClassifier,\\\n",
    "RandomForestClassifier,AdaBoostClassifier,ExtraTreesClassifier\n",
    "from sklearn.pipeline import Pipeline\n",
    "from sklearn.model_selection import GridSearchCV\n",
    "from sklearn.tree import DecisionTreeClassifier\n",
    "from sklearn.model_selection import train_test_split, GridSearchCV\n",
    "from sklearn.svm import SVC\n",
    "\n",
    "pipes_dict = dict()\n",
    "pipe_params = dict()\n",
    "model_runs = dict()\n",
    "model_scores = dict()\n",
    "predicts_probs = dict()\n",
    "\n",
    "#models = {'LOGREG':LogisticRegression()}\n",
    "models = {'LOGREG_Jonna':LogisticRegression(),'KNN_Kemal':KNeighborsClassifier(),'Adaboost_Reem':AdaBoostClassifier(),\n",
    "          'SVC_Reem':SVC(probability=True)}#,'RForest_Kemal':RandomForestClassifier(),'BagginClassifier_Jonna':BaggingClassifier(),}\n",
    "\n",
    "\n",
    "\n",
    "X=dataset[features]\n",
    "y=dataset['wage']\n",
    "\n",
    "X_train, X_test,y_train, y_test =\\\n",
    "train_test_split(X,y,train_size=0.70,random_state=42)\n",
    "\n",
    "sc = StandardScaler()\n",
    "X_train_sc= sc.fit_transform(X_train)\n",
    "X_test_sc = sc.transform(X_test)\n",
    "\n",
    "for mname, mvalue in models.items():    \n",
    "    pipe_params[mname]={}\n",
    "\n",
    "   \n",
    " \n",
    "pipe_params['LOGREG_Jonna'] = {\n",
    "    'LOGREG_Jonna__solver':['liblinear'],\n",
    "    'LOGREG_Jonna__penalty':['l1'],#,'l2'],#,ExtraTreesRegressor()],\n",
    "    'LOGREG_Jonna__C':[0.1]\n",
    "}\n",
    "   \n",
    "\n",
    "pipe_params['BaggingClassifier_Jonna'] = {    \n",
    "    'BaggingClassifier_Jonna__base_estimator':[None,RandomForestClassifier()],#,ExtraTreesRegressor()],\n",
    "     'BTree__max_features':[1], \n",
    "     'BTree__max_samples':[1],\n",
    "    'BTree__n_estimators':[10,50]#[5,10,20,50]\n",
    "}\n",
    "    \n",
    "   \n",
    "\n",
    "pipe_params['RForest_Kemal'] = {\n",
    "    #'RForest__n_estimators':[10,20,50,100],\n",
    "    #'RForest__criterion':[\"mse\"],#,\"mse\", \"mae\"],\n",
    "    #'RForest__splitter':[\"random\"],#[\"best\", \"random\"],\n",
    "    'RForest_Kemal__min_samples_split':[4],#2,\n",
    "    'RForest_Kemal__min_samples_leaf':[10],#,1,5,20],\n",
    "    'RForest_Kemal__min_weight_fraction_leaf':[0.0],\n",
    "    'RForest_Kemal__max_features':[\"sqrt\"],#[\"auto\", \"sqrt\", \"log2\"],\n",
    "    'RForest_Kemal__max_leaf_nodes':[30],#,10,None],\n",
    "    'RForest_Kemal__min_impurity_decrease':[0.0,0.5],\n",
    "    #'RForest__ccp_alpha':[0.1,0.5,1]\n",
    "}\n",
    "\n",
    "\n",
    "pipe_params['Adaboost_Reem']=[{\n",
    "    'Adaboost_Reem__base_estimator':[RandomForestClassifier()],#,ExtraTreesClassifier()],\n",
    "    'Adaboost_Reem__n_estimators':[5],#,10,20],#[5,10,20],\n",
    "    'Adaboost_Reem__learning_rate':[1],#[np.linspace(0.1,1,20)]0.5,\n",
    "    'Adaboost_Reem__algorithm':['SAMME']\n",
    "}]\n",
    "\n",
    "\n",
    "pipe_params['SVC_Reem']=[{\n",
    "    'SVC_Reem__kernel':['rbf'],#['linear', 'poly', 'rbf', 'sigmoid'],\n",
    "    'SVC_Reem__degree':[2],#,3,4],\n",
    "    'SVC_Reem__tol':[0.001],#[np.linspace(0.001,0.005,3),]\n",
    "    'SVC_Reem__C':[0.5]#[np.linspace(0.1,1,20)]\n",
    "}]\n",
    "        \n",
    "pipe_params['KNN_Kemal']=[{\n",
    "    'KNN_Kemal__n_neighbors':[21],#19,5,10,30,40,50],\n",
    "    'KNN_Kemal__algorithm':['brute'],#'auto', 'ball_tree', 'kd_tree',\n",
    "    'KNN_Kemal__weights':['uniform'],#,'distance'],\n",
    "    'KNN_Kemal__leaf_size':[30],#,40,50],\n",
    "    'KNN_Kemal__p':[2],#,2],\n",
    "    'KNN_Kemal__metric':['euclidean','manhattan']\n",
    "}]\n",
    "    \n",
    "    \n",
    "for mname, mvalue in models.items():    \n",
    "    pipes_dict[mname]=Pipeline([\n",
    "        #('stsc', StandardScaler()),\n",
    "        (mname,mvalue)\n",
    "    ])\n",
    "    model_runs[mname]=GridSearchCV(pipes_dict[mname],\n",
    "                                   pipe_params[mname])\n",
    "    \n",
    "    print(f'Fitting {mname} on X_train_sc')\n",
    "    model_runs[mname].fit(X_train_sc,y_train)\n",
    "    preds_train = model_runs[mname].predict(X_train_sc)\n",
    "    preds_test = model_runs[mname].predict(X_test_sc)\n",
    "#     pred_proba_train = [i[1] for i in model_runs[mname].predict_proba(X_train_sc)]\n",
    "#     pred_proba_test = [i[1] for i in model_runs[mname].predict_proba(X_test_sc)]\n",
    "    \n",
    "#     predicts_probs[mname] = {'train_pred':preds_train,\n",
    "#                              'test_pred':preds_test,\n",
    "#                              'train_proba':pred_proba_train,\n",
    "#                              'test_proba':pred_proba_test}\n",
    "    model_scores[mname] ={\n",
    "        'model':model_runs[mname],\n",
    "        'train':model_runs[mname].score(X_train_sc,y_train),\n",
    "        'test':model_runs[mname].score(X_test_sc,y_test),\n",
    "        'Mean_CV_Score':model_runs[mname].best_score_,\n",
    "        'f1score_train':f1_score(y_train,preds_train),\n",
    "        'f1score_test':f1_score(y_test,preds_test),\n",
    "        \n",
    "    }\n",
    "    print(f\"{mname} Scores:\\n\"\n",
    "          f\"Train:{model_scores[mname]['train']}\\n\"\n",
    "          f\"Test:{model_scores[mname]['test']}\\n\"\n",
    "          f\"F1 score Train:{model_scores[mname]['f1score_train']}\\n\"\n",
    "          f\"F1 score Test:{model_scores[mname]['f1score_test']}\\n\"\n",
    "          f\"Mean_CV_Score:{model_scores[mname]['Mean_CV_Score']}\")\n",
    "    print(f\"Best Params {mname}:\\n\"\n",
    "          f\"{model_runs[mname].best_params_}\")"
   ]
  },
  {
   "cell_type": "code",
   "execution_count": 139,
   "metadata": {},
   "outputs": [
    {
     "data": {
      "text/plain": [
       "19"
      ]
     },
     "execution_count": 139,
     "metadata": {},
     "output_type": "execute_result"
    }
   ],
   "source": [
    "len(features)"
   ]
  },
  {
   "cell_type": "code",
   "execution_count": 140,
   "metadata": {},
   "outputs": [],
   "source": [
    "model_scores=pd.DataFrame(model_scores).T"
   ]
  },
  {
   "cell_type": "code",
   "execution_count": 147,
   "metadata": {},
   "outputs": [
    {
     "data": {
      "text/html": [
       "<div>\n",
       "<style scoped>\n",
       "    .dataframe tbody tr th:only-of-type {\n",
       "        vertical-align: middle;\n",
       "    }\n",
       "\n",
       "    .dataframe tbody tr th {\n",
       "        vertical-align: top;\n",
       "    }\n",
       "\n",
       "    .dataframe thead th {\n",
       "        text-align: right;\n",
       "    }\n",
       "</style>\n",
       "<table border=\"1\" class=\"dataframe\">\n",
       "  <thead>\n",
       "    <tr style=\"text-align: right;\">\n",
       "      <th></th>\n",
       "      <th>train</th>\n",
       "      <th>test</th>\n",
       "      <th>Mean_CV_Score</th>\n",
       "      <th>f1score_train</th>\n",
       "      <th>f1score_test</th>\n",
       "    </tr>\n",
       "  </thead>\n",
       "  <tbody>\n",
       "    <tr>\n",
       "      <th>SVC_Reem</th>\n",
       "      <td>0.845384</td>\n",
       "      <td>0.844815</td>\n",
       "      <td>0.844814</td>\n",
       "      <td>0.625664</td>\n",
       "      <td>0.611481</td>\n",
       "    </tr>\n",
       "    <tr>\n",
       "      <th>LOGREG_Jonna</th>\n",
       "      <td>0.840383</td>\n",
       "      <td>0.837854</td>\n",
       "      <td>0.840471</td>\n",
       "      <td>0.631632</td>\n",
       "      <td>0.61516</td>\n",
       "    </tr>\n",
       "    <tr>\n",
       "      <th>KNN_Kemal</th>\n",
       "      <td>0.849158</td>\n",
       "      <td>0.837752</td>\n",
       "      <td>0.835951</td>\n",
       "      <td>0.655373</td>\n",
       "      <td>0.618348</td>\n",
       "    </tr>\n",
       "    <tr>\n",
       "      <th>Adaboost_Reem</th>\n",
       "      <td>0.932257</td>\n",
       "      <td>0.82598</td>\n",
       "      <td>0.825816</td>\n",
       "      <td>0.857696</td>\n",
       "      <td>0.615559</td>\n",
       "    </tr>\n",
       "  </tbody>\n",
       "</table>\n",
       "</div>"
      ],
      "text/plain": [
       "                  train      test Mean_CV_Score f1score_train f1score_test\n",
       "SVC_Reem       0.845384  0.844815      0.844814      0.625664     0.611481\n",
       "LOGREG_Jonna   0.840383  0.837854      0.840471      0.631632      0.61516\n",
       "KNN_Kemal      0.849158  0.837752      0.835951      0.655373     0.618348\n",
       "Adaboost_Reem  0.932257   0.82598      0.825816      0.857696     0.615559"
      ]
     },
     "execution_count": 147,
     "metadata": {},
     "output_type": "execute_result"
    }
   ],
   "source": [
    "model_scores.drop(columns='model').sort_values(by='test', ascending=False)"
   ]
  },
  {
   "cell_type": "code",
   "execution_count": 142,
   "metadata": {},
   "outputs": [
    {
     "data": {
      "text/plain": [
       "Index(['age', 'workclass', 'fnlwgt', 'education', 'education_num',\n",
       "       'marital_status', 'occupation', 'relationship', 'sex', 'capital_gain',\n",
       "       'capital_loss', 'hours_per_week', 'native_country',\n",
       "       'ms_married_af_spouse', 'ms_married_civ_spouse',\n",
       "       'ms_married_spouse_absent', 'ms_never_married', 'ms_separated',\n",
       "       'ms_widowed', 'wc_other', 'wc_private', 'wc_self',\n",
       "       'ms_married_civ_spouse * education_num * age',\n",
       "       'ms_married_civ_spouse * education_num * sex',\n",
       "       'ms_married_civ_spouse * education_num', 'ms_married_civ_spouse**2',\n",
       "       'age * education_num', 'ms_married_civ_spouse * sex'],\n",
       "      dtype='object')"
      ]
     },
     "execution_count": 142,
     "metadata": {},
     "output_type": "execute_result"
    }
   ],
   "source": [
    "chosen_model = model_scores.loc['SVC_Reem','model']\n",
    "test_data.columns"
   ]
  },
  {
   "cell_type": "code",
   "execution_count": 143,
   "metadata": {},
   "outputs": [
    {
     "data": {
      "text/html": [
       "<div>\n",
       "<style scoped>\n",
       "    .dataframe tbody tr th:only-of-type {\n",
       "        vertical-align: middle;\n",
       "    }\n",
       "\n",
       "    .dataframe tbody tr th {\n",
       "        vertical-align: top;\n",
       "    }\n",
       "\n",
       "    .dataframe thead th {\n",
       "        text-align: right;\n",
       "    }\n",
       "</style>\n",
       "<table border=\"1\" class=\"dataframe\">\n",
       "  <thead>\n",
       "    <tr style=\"text-align: right;\">\n",
       "      <th></th>\n",
       "      <th>wage</th>\n",
       "    </tr>\n",
       "  </thead>\n",
       "  <tbody>\n",
       "    <tr>\n",
       "      <th>0</th>\n",
       "      <td>0.101857</td>\n",
       "    </tr>\n",
       "    <tr>\n",
       "      <th>1</th>\n",
       "      <td>0.148866</td>\n",
       "    </tr>\n",
       "    <tr>\n",
       "      <th>2</th>\n",
       "      <td>0.105813</td>\n",
       "    </tr>\n",
       "    <tr>\n",
       "      <th>3</th>\n",
       "      <td>0.906128</td>\n",
       "    </tr>\n",
       "    <tr>\n",
       "      <th>4</th>\n",
       "      <td>0.080466</td>\n",
       "    </tr>\n",
       "    <tr>\n",
       "      <th>...</th>\n",
       "      <td>...</td>\n",
       "    </tr>\n",
       "    <tr>\n",
       "      <th>16276</th>\n",
       "      <td>0.588843</td>\n",
       "    </tr>\n",
       "    <tr>\n",
       "      <th>16277</th>\n",
       "      <td>0.116325</td>\n",
       "    </tr>\n",
       "    <tr>\n",
       "      <th>16278</th>\n",
       "      <td>0.134817</td>\n",
       "    </tr>\n",
       "    <tr>\n",
       "      <th>16279</th>\n",
       "      <td>0.430486</td>\n",
       "    </tr>\n",
       "    <tr>\n",
       "      <th>16280</th>\n",
       "      <td>0.141026</td>\n",
       "    </tr>\n",
       "  </tbody>\n",
       "</table>\n",
       "<p>16281 rows × 1 columns</p>\n",
       "</div>"
      ],
      "text/plain": [
       "           wage\n",
       "0      0.101857\n",
       "1      0.148866\n",
       "2      0.105813\n",
       "3      0.906128\n",
       "4      0.080466\n",
       "...         ...\n",
       "16276  0.588843\n",
       "16277  0.116325\n",
       "16278  0.134817\n",
       "16279  0.430486\n",
       "16280  0.141026\n",
       "\n",
       "[16281 rows x 1 columns]"
      ]
     },
     "execution_count": 143,
     "metadata": {},
     "output_type": "execute_result"
    }
   ],
   "source": [
    "X_output_test = test_data[features]\n",
    "X_output_test_sc = sc.transform(X_output_test)\n",
    "predictions = pd.Series(chosen_model.predict(X_output_test_sc))\n",
    "probabilities = pd.DataFrame([i[1] for i in chosen_model.predict_proba(X_output_test_sc)])\n",
    "output_to_file = probabilities\n",
    "output_to_file.columns=['wage']\n",
    "output_to_file"
   ]
  },
  {
   "cell_type": "code",
   "execution_count": 144,
   "metadata": {},
   "outputs": [],
   "source": [
    "output_to_file.to_csv('./data/predictons.csv',index=False,header=True)"
   ]
  },
  {
   "cell_type": "code",
   "execution_count": 145,
   "metadata": {},
   "outputs": [
    {
     "data": {
      "text/html": [
       "<div>\n",
       "<style scoped>\n",
       "    .dataframe tbody tr th:only-of-type {\n",
       "        vertical-align: middle;\n",
       "    }\n",
       "\n",
       "    .dataframe tbody tr th {\n",
       "        vertical-align: top;\n",
       "    }\n",
       "\n",
       "    .dataframe thead th {\n",
       "        text-align: right;\n",
       "    }\n",
       "</style>\n",
       "<table border=\"1\" class=\"dataframe\">\n",
       "  <thead>\n",
       "    <tr style=\"text-align: right;\">\n",
       "      <th></th>\n",
       "      <th>wage</th>\n",
       "    </tr>\n",
       "  </thead>\n",
       "  <tbody>\n",
       "    <tr>\n",
       "      <th>0</th>\n",
       "      <td>0.101857</td>\n",
       "    </tr>\n",
       "    <tr>\n",
       "      <th>1</th>\n",
       "      <td>0.148866</td>\n",
       "    </tr>\n",
       "    <tr>\n",
       "      <th>2</th>\n",
       "      <td>0.105813</td>\n",
       "    </tr>\n",
       "    <tr>\n",
       "      <th>3</th>\n",
       "      <td>0.906128</td>\n",
       "    </tr>\n",
       "    <tr>\n",
       "      <th>4</th>\n",
       "      <td>0.080466</td>\n",
       "    </tr>\n",
       "    <tr>\n",
       "      <th>...</th>\n",
       "      <td>...</td>\n",
       "    </tr>\n",
       "    <tr>\n",
       "      <th>16276</th>\n",
       "      <td>0.588843</td>\n",
       "    </tr>\n",
       "    <tr>\n",
       "      <th>16277</th>\n",
       "      <td>0.116325</td>\n",
       "    </tr>\n",
       "    <tr>\n",
       "      <th>16278</th>\n",
       "      <td>0.134817</td>\n",
       "    </tr>\n",
       "    <tr>\n",
       "      <th>16279</th>\n",
       "      <td>0.430486</td>\n",
       "    </tr>\n",
       "    <tr>\n",
       "      <th>16280</th>\n",
       "      <td>0.141026</td>\n",
       "    </tr>\n",
       "  </tbody>\n",
       "</table>\n",
       "<p>16281 rows × 1 columns</p>\n",
       "</div>"
      ],
      "text/plain": [
       "           wage\n",
       "0      0.101857\n",
       "1      0.148866\n",
       "2      0.105813\n",
       "3      0.906128\n",
       "4      0.080466\n",
       "...         ...\n",
       "16276  0.588843\n",
       "16277  0.116325\n",
       "16278  0.134817\n",
       "16279  0.430486\n",
       "16280  0.141026\n",
       "\n",
       "[16281 rows x 1 columns]"
      ]
     },
     "execution_count": 145,
     "metadata": {},
     "output_type": "execute_result"
    }
   ],
   "source": [
    "output_to_file"
   ]
  },
  {
   "cell_type": "code",
   "execution_count": 146,
   "metadata": {},
   "outputs": [],
   "source": [
    "import pickle\n",
    "import datetime\n",
    "current_time = datetime.datetime.now().strftime(\"%Y_%m_%d_%H_%M_%S_\")\n",
    "file_names = [str(f'./models/Round_3_{mtr}_{current_time}.pkl')\n",
    "              for mtr in model_scores.index]\n",
    "for fn,model in zip(file_names,model_scores.items()):\n",
    "    with open(fn, 'wb') as file:\n",
    "        pickle.dump(model, file)\n",
    "        file.close()"
   ]
  },
  {
   "cell_type": "code",
   "execution_count": null,
   "metadata": {},
   "outputs": [],
   "source": []
  }
 ],
 "metadata": {
  "kernelspec": {
   "display_name": "Python 3",
   "language": "python",
   "name": "python3"
  },
  "language_info": {
   "codemirror_mode": {
    "name": "ipython",
    "version": 3
   },
   "file_extension": ".py",
   "mimetype": "text/x-python",
   "name": "python",
   "nbconvert_exporter": "python",
   "pygments_lexer": "ipython3",
   "version": "3.7.7"
  }
 },
 "nbformat": 4,
 "nbformat_minor": 4
}
