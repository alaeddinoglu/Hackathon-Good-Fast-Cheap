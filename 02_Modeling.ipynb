{
 "cells": [
  {
   "cell_type": "markdown",
   "metadata": {},
   "source": [
    "<a id=Modeling></a>\n",
    "## Modeling"
   ]
  },
  {
   "cell_type": "markdown",
   "metadata": {},
   "source": [
    "We have attempted multiple rounds of modeling. Initially, we used only "
   ]
  },
  {
   "cell_type": "code",
   "execution_count": 2,
   "metadata": {},
   "outputs": [
    {
     "name": "stderr",
     "output_type": "stream",
     "text": [
      "\n",
      "Bad key \"text.kerning_factor\" on line 4 in\n",
      "/Users/reemmokhtar/opt/anaconda3/lib/python3.7/site-packages/matplotlib/mpl-data/stylelib/_classic_test_patch.mplstyle.\n",
      "You probably need to get an updated matplotlibrc file from\n",
      "https://github.com/matplotlib/matplotlib/blob/v3.1.3/matplotlibrc.template\n",
      "or from the matplotlib source distribution\n"
     ]
    }
   ],
   "source": [
    "# Imprort libraries\n",
    "\n",
    "import os\n",
    "import sys\n",
    "import numpy as np\n",
    "import pandas as pd\n",
    "import seaborn as sns\n",
    "import matplotlib.pyplot as plt\n",
    "\n",
    "from sklearn.model_selection import train_test_split, cross_val_score\n",
    "from sklearn.ensemble import RandomForestClassifier,\\\n",
    "RandomForestRegressor, AdaBoostRegressor, AdaBoostClassifier\n",
    "from sklearn.preprocessing import StandardScaler\n",
    "from sklearn.linear_model import LinearRegression, LogisticRegression\n",
    "from sklearn import metrics\n",
    "from sklearn.metrics import f1_score\n",
    "from sklearn.neighbors import KNeighborsClassifier, KNeighborsRegressor\n",
    "from sklearn.tree import DecisionTreeRegressor, DecisionTreeClassifier\n",
    "from sklearn.ensemble import BaggingRegressor, BaggingClassifier\n",
    "from sklearn import svm\n",
    "from sklearn.metrics import confusion_matrix, classification_report, accuracy_score, roc_curve\n",
    "pd.set_option(\"display.max_rows\", 100)\n",
    "\n",
    "sns.set()\n"
   ]
  },
  {
   "cell_type": "code",
   "execution_count": 7,
   "metadata": {},
   "outputs": [],
   "source": [
    "# Read in data\n",
    "\n",
    "dataset = pd.read_csv('./data/large_train_sample.csv')\n",
    "\n",
    "test_data = pd.read_csv('./data/test_data.csv')\n",
    "\n",
    "dataset.columns=[c.lower().replace('-','_') for c in dataset.columns]\n",
    "test_data.columns=[c.lower().replace('-','_') for c in test_data.columns]\n",
    "categorical_features = ['workclass', 'education',\n",
    "       'marital_status', 'occupation', 'relationship', 'sex', 'native_country']"
   ]
  },
  {
   "cell_type": "code",
   "execution_count": 8,
   "metadata": {},
   "outputs": [],
   "source": [
    "# Impute\n",
    "\n",
    "for c in categorical_features:\n",
    "    dataset[c]=dataset[c].replace('?','MISSING')\n",
    "    #test_data[c]=test_data[c].replace('?',None)\n",
    "\n",
    "dataset[categorical_features]=dataset[categorical_features].astype(str)\n",
    "test_data[categorical_features]=dataset[categorical_features].astype(str)\n",
    "\n",
    "dataset=dataset.dropna()\n",
    "#dataset['workclass']\n",
    "#test_data=test_data.dropna()"
   ]
  },
  {
   "cell_type": "code",
   "execution_count": 9,
   "metadata": {},
   "outputs": [
    {
     "data": {
      "text/plain": [
       "age               0\n",
       "workclass         0\n",
       "fnlwgt            0\n",
       "education         0\n",
       "education_num     0\n",
       "marital_status    0\n",
       "occupation        0\n",
       "relationship      0\n",
       "sex               0\n",
       "capital_gain      0\n",
       "capital_loss      0\n",
       "hours_per_week    0\n",
       "native_country    0\n",
       "wage              0\n",
       "dtype: int64"
      ]
     },
     "execution_count": 9,
     "metadata": {},
     "output_type": "execute_result"
    }
   ],
   "source": [
    "# Check nulls\n",
    "\n",
    "dataset.isnull().sum()"
   ]
  },
  {
   "cell_type": "code",
   "execution_count": 10,
   "metadata": {},
   "outputs": [],
   "source": [
    "# Strip and binary\n",
    "\n",
    "dataset['wage']=dataset['wage'].astype(str)\n",
    "dataset['wage']=dataset['wage'].str.strip()\n",
    "dataset['wage']=dataset['wage'].map({'<=50K':0,'>50K':1})"
   ]
  },
  {
   "cell_type": "code",
   "execution_count": 11,
   "metadata": {},
   "outputs": [],
   "source": [
    "# Assign values\n",
    "\n",
    "negative_class = '<=50K'\n",
    "positive_class = '>50K'"
   ]
  },
  {
   "cell_type": "code",
   "execution_count": 12,
   "metadata": {},
   "outputs": [],
   "source": [
    "# Apply strip\n",
    "\n",
    "dataset[categorical_features]=dataset[categorical_features].apply(lambda x: x.str.strip())\n",
    "test_data[categorical_features]=test_data[categorical_features].apply(lambda x: x.str.strip())"
   ]
  },
  {
   "cell_type": "code",
   "execution_count": 13,
   "metadata": {},
   "outputs": [],
   "source": [
    "# dataset['sex']=dataset['sex'].map({'Male':1,'Female':0})\n",
    "# test_data['sex']=test_data['sex'].map({'Male':1,'Female':0})"
   ]
  },
  {
   "cell_type": "code",
   "execution_count": 14,
   "metadata": {},
   "outputs": [],
   "source": [
    "# Dummify\n",
    "\n",
    "sex = pd.get_dummies(dataset['sex'],drop_first=False, prefix='sex')\n",
    "test_data_sex = pd.get_dummies(test_data['sex'],drop_first=False, prefix='sex')"
   ]
  },
  {
   "cell_type": "code",
   "execution_count": 15,
   "metadata": {},
   "outputs": [],
   "source": [
    "# Transform labels\n",
    "\n",
    "dataset['marital_status']=dataset['marital_status'].str.lower().str.replace('-','_')\n",
    "test_data['marital_status']=test_data['marital_status'].str.lower().str.replace('-','_')"
   ]
  },
  {
   "cell_type": "code",
   "execution_count": 16,
   "metadata": {},
   "outputs": [],
   "source": [
    "# Dummify\n",
    "\n",
    "marital_status = pd.get_dummies(dataset['marital_status'],drop_first=False, prefix='ms')\n",
    "test_data_ms = pd.get_dummies(test_data['marital_status'],drop_first=False, prefix='ms')"
   ]
  },
  {
   "cell_type": "code",
   "execution_count": 17,
   "metadata": {},
   "outputs": [],
   "source": [
    "# Recategorize workclass\n",
    "\n",
    "dataset['workclass_rebinned']=dataset['workclass'].map({'State-gov':\"gov\",\n",
    "                                               'Federal-gov':\"gov\", \n",
    "                                               'Local-gov':\"gov\",\n",
    "                                               'Without-pay':\"no_work\",\n",
    "                                               'Never-worked':\"no_work\",\n",
    "                                               \"Private\":\"other\",\n",
    "                                               \"Self-emp-not-inc\":\"other\",\n",
    "                                               \"?\":\"other\",\n",
    "                                               \"Self-emp-inc\":\"other\",\n",
    "                                              })"
   ]
  },
  {
   "cell_type": "code",
   "execution_count": 18,
   "metadata": {},
   "outputs": [],
   "source": [
    "# Dummify\n",
    "\n",
    "workclass = pd.get_dummies(dataset['workclass_rebinned'],drop_first=False,prefix='wc')\n",
    "test_data_wc = pd.get_dummies(dataset['workclass_rebinned'],drop_first=False,prefix='wc')"
   ]
  },
  {
   "cell_type": "code",
   "execution_count": 19,
   "metadata": {},
   "outputs": [],
   "source": [
    "# Create features list\n",
    "\n",
    "features = ['age', 'education_num', \n",
    "        'capital_gain', 'hours_per_week',\n",
    "       'wc_gov', 'wc_no_work',\n",
    "        'ms_married_af_spouse',\n",
    "       'ms_married_civ_spouse',\n",
    "       'ms_married_spouse_absent', 'ms_never_married',\n",
    "       'ms_separated', 'ms_widowed', 'sex_Male']"
   ]
  },
  {
   "cell_type": "code",
   "execution_count": 20,
   "metadata": {},
   "outputs": [],
   "source": [
    "#features = ['age','education_num','sex','hours_per_week','capital_gain']+list(marital_status.columns)+list(workclass.columns)"
   ]
  },
  {
   "cell_type": "code",
   "execution_count": 21,
   "metadata": {},
   "outputs": [
    {
     "data": {
      "text/plain": [
       "13"
      ]
     },
     "execution_count": 21,
     "metadata": {},
     "output_type": "execute_result"
    }
   ],
   "source": [
    "# Check length\n",
    "\n",
    "len(features)"
   ]
  },
  {
   "cell_type": "code",
   "execution_count": 22,
   "metadata": {},
   "outputs": [],
   "source": [
    "# Join new features to df\n",
    "\n",
    "dataset = dataset.join(marital_status).join(workclass).join(sex)\n",
    "test_data = test_data.join(test_data_ms).join(test_data_wc).join(test_data_sex)"
   ]
  },
  {
   "cell_type": "code",
   "execution_count": 23,
   "metadata": {},
   "outputs": [
    {
     "data": {
      "text/plain": [
       "0        0\n",
       "1        0\n",
       "2        0\n",
       "3        0\n",
       "4        0\n",
       "        ..\n",
       "32556    0\n",
       "32557    0\n",
       "32558    0\n",
       "32559    0\n",
       "32560    0\n",
       "Name: ms_separated, Length: 32561, dtype: uint8"
      ]
     },
     "execution_count": 23,
     "metadata": {},
     "output_type": "execute_result"
    }
   ],
   "source": [
    "# View\n",
    "\n",
    "dataset['ms_separated']"
   ]
  },
  {
   "cell_type": "code",
   "execution_count": 24,
   "metadata": {},
   "outputs": [
    {
     "data": {
      "text/plain": [
       "Index(['age', 'workclass', 'fnlwgt', 'education', 'education_num',\n",
       "       'marital_status', 'occupation', 'relationship', 'sex', 'capital_gain',\n",
       "       'capital_loss', 'hours_per_week', 'native_country', 'wage',\n",
       "       'workclass_rebinned', 'ms_divorced', 'ms_married_af_spouse',\n",
       "       'ms_married_civ_spouse', 'ms_married_spouse_absent', 'ms_never_married',\n",
       "       'ms_separated', 'ms_widowed', 'wc_gov', 'wc_no_work', 'wc_other',\n",
       "       'sex_Female', 'sex_Male'],\n",
       "      dtype='object')"
      ]
     },
     "execution_count": 24,
     "metadata": {},
     "output_type": "execute_result"
    }
   ],
   "source": [
    "# Get columns\n",
    "\n",
    "dataset.columns"
   ]
  },
  {
   "cell_type": "code",
   "execution_count": 25,
   "metadata": {},
   "outputs": [
    {
     "name": "stdout",
     "output_type": "stream",
     "text": [
      "Fitting LOGREG_Jonna on X_train_sc\n",
      "LOGREG_Jonna Scores:\n",
      "Train:0.8393295893295893\n",
      "Test:0.8393899068481933\n",
      "F1 score Train:0.625638928644449\n",
      "F1 score Test:0.6177831912302071\n",
      "Mean_CV_Score:0.83928585487472\n",
      "Best Params LOGREG_Jonna:\n",
      "{'LOGREG_Jonna__C': 0.1, 'LOGREG_Jonna__penalty': 'l1', 'LOGREG_Jonna__solver': 'liblinear'}\n",
      "Fitting RForest_Kemal on X_train_sc\n",
      "RForest_Kemal Scores:\n",
      "Train:0.8453843453843454\n",
      "Test:0.8465554304432388\n",
      "F1 score Train:0.6080960854092526\n",
      "F1 score Test:0.599304998663459\n",
      "Mean_CV_Score:0.8445507832031323\n",
      "Best Params RForest_Kemal:\n",
      "{'RForest_Kemal__ccp_alpha': 0.001, 'RForest_Kemal__max_features': 'sqrt', 'RForest_Kemal__max_leaf_nodes': 30, 'RForest_Kemal__min_impurity_decrease': 0.0, 'RForest_Kemal__min_samples_leaf': 10, 'RForest_Kemal__min_samples_split': 4, 'RForest_Kemal__min_weight_fraction_leaf': 0.0, 'RForest_Kemal__n_estimators': 100}\n"
     ]
    }
   ],
   "source": [
    "# Import libraries and create pipeline for modeling\n",
    "\n",
    "import matplotlib.pyplot as plt\n",
    "\n",
    "from sklearn import datasets\n",
    "from sklearn.linear_model import LogisticRegression\n",
    "from sklearn.preprocessing import StandardScaler\n",
    "from sklearn.neighbors import KNeighborsClassifier\n",
    "from sklearn.tree import DecisionTreeClassifier\n",
    "from sklearn.ensemble import BaggingClassifier,\\\n",
    "RandomForestClassifier,AdaBoostClassifier,ExtraTreesClassifier\n",
    "from sklearn.pipeline import Pipeline\n",
    "from sklearn.model_selection import GridSearchCV\n",
    "from sklearn.tree import DecisionTreeClassifier\n",
    "from sklearn.model_selection import train_test_split, GridSearchCV\n",
    "from sklearn.svm import SVC\n",
    "\n",
    "pipes_dict = dict()\n",
    "pipe_params = dict()\n",
    "model_runs = dict()\n",
    "model_scores = dict()\n",
    "predicts_probs = dict()\n",
    "\n",
    "#models = {'LOGREG':LogisticRegression()}\n",
    "models = {'LOGREG_Jonna':LogisticRegression(),'RForest_Kemal':RandomForestClassifier()}\n",
    "\n",
    "#           ,'KNN_Kemal':KNeighborsClassifier(),'Adaboost_Reem':AdaBoostClassifier(),\n",
    "#           'SVC_Reem':SVC(probability=True),,'BagginClassifier_Jonna':BaggingClassifier(),}\n",
    "\n",
    "X=dataset[features]\n",
    "y=dataset['wage']\n",
    "\n",
    "X_train, X_test,y_train, y_test =\\\n",
    "train_test_split(X,y,train_size=0.70,random_state=42)\n",
    "\n",
    "sc = StandardScaler()\n",
    "X_train_sc= sc.fit_transform(X_train)\n",
    "X_test_sc = sc.transform(X_test)\n",
    "\n",
    "for mname, mvalue in models.items():    \n",
    "    pipe_params[mname]={}\n",
    "\n",
    "   \n",
    " \n",
    "pipe_params['LOGREG_Jonna'] = {\n",
    "    'LOGREG_Jonna__solver':['liblinear'],\n",
    "    'LOGREG_Jonna__penalty':['l1'],#,'l2'],#,ExtraTreesRegressor()],\n",
    "    'LOGREG_Jonna__C':[0.1]\n",
    "}\n",
    "   \n",
    "\n",
    "pipe_params['BaggingClassifier_Jonna'] = {    \n",
    "    'BaggingClassifier_Jonna__base_estimator':[None,RandomForestClassifier()],#,ExtraTreesRegressor()],\n",
    "     'BTree__max_features':[1], \n",
    "     'BTree__max_samples':[1],\n",
    "    'BTree__n_estimators':[10,50]#[5,10,20,50]\n",
    "}\n",
    "    \n",
    "   \n",
    "\n",
    "pipe_params['RForest_Kemal'] = {\n",
    "    'RForest_Kemal__n_estimators':[100],\n",
    "    #'RForest__criterion':[\"mse\"],#,\"mse\", \"mae\"],\n",
    "    #'RForest__splitter':[\"random\"],#[\"best\", \"random\"],\n",
    "    'RForest_Kemal__min_samples_split':[4],#2,\n",
    "    'RForest_Kemal__min_samples_leaf':[10],#,1,5,20],\n",
    "    'RForest_Kemal__min_weight_fraction_leaf':[0.0],\n",
    "    'RForest_Kemal__max_features':[\"sqrt\"],#[\"auto\", \"sqrt\", \"log2\"],\n",
    "    'RForest_Kemal__max_leaf_nodes':[30],#,10,None],\n",
    "    'RForest_Kemal__min_impurity_decrease':[0.0,0.5],\n",
    "    'RForest_Kemal__ccp_alpha':[0.001]\n",
    "}\n",
    "\n",
    "\n",
    "pipe_params['Adaboost_Reem']=[{\n",
    "    'Adaboost_Reem__base_estimator':[RandomForestClassifier()],#,ExtraTreesClassifier()],\n",
    "    'Adaboost_Reem__n_estimators':[5],#,10,20],#[5,10,20],\n",
    "    'Adaboost_Reem__learning_rate':[1],#[np.linspace(0.1,1,20)]0.5,\n",
    "    'Adaboost_Reem__algorithm':['SAMME']\n",
    "}]\n",
    "\n",
    "\n",
    "pipe_params['SVC_Reem']=[{\n",
    "    'SVC_Reem__kernel':['rbf'],#['linear', 'poly', 'rbf', 'sigmoid'],\n",
    "    'SVC_Reem__degree':[2],#,3,4],\n",
    "    'SVC_Reem__tol':[0.001],#[np.linspace(0.001,0.005,3),]\n",
    "    'SVC_Reem__C':[0.5]#[np.linspace(0.1,1,20)]\n",
    "}]\n",
    "        \n",
    "pipe_params['KNN_Kemal']=[{\n",
    "    'KNN_Kemal__n_neighbors':[21],#19,5,10,30,40,50],\n",
    "    'KNN_Kemal__algorithm':['brute'],#'auto', 'ball_tree', 'kd_tree',\n",
    "    'KNN_Kemal__weights':['uniform'],#,'distance'],\n",
    "    'KNN_Kemal__leaf_size':[30],#,40,50],\n",
    "    'KNN_Kemal__p':[1],#,2],\n",
    "    'KNN_Kemal__metric':['euclidean']#,'manhattan']\n",
    "}]\n",
    "    \n",
    "    \n",
    "for mname, mvalue in models.items():    \n",
    "    pipes_dict[mname]=Pipeline([\n",
    "        #('stsc', StandardScaler()),\n",
    "        (mname,mvalue)\n",
    "    ])\n",
    "    model_runs[mname]=GridSearchCV(pipes_dict[mname],\n",
    "                                   pipe_params[mname])\n",
    "    \n",
    "    print(f'Fitting {mname} on X_train_sc')\n",
    "    model_runs[mname].fit(X_train_sc,y_train)\n",
    "    preds_train = model_runs[mname].predict(X_train_sc)\n",
    "    preds_test = model_runs[mname].predict(X_test_sc)\n",
    "    pred_proba_train = [i[1] for i in model_runs[mname].predict_proba(X_train_sc)]\n",
    "    pred_proba_test = [i[1] for i in model_runs[mname].predict_proba(X_test_sc)]\n",
    " \n",
    "    model_scores[mname] ={\n",
    "        'model':model_runs[mname],\n",
    "        'train':model_runs[mname].score(X_train_sc,y_train),\n",
    "        'test':model_runs[mname].score(X_test_sc,y_test),\n",
    "        'Mean_CV_Score':model_runs[mname].best_score_,\n",
    "        'f1score_train':f1_score(y_train,preds_train),\n",
    "        'f1score_test':f1_score(y_test,preds_test),\n",
    "        \n",
    "        'preds_proba_train':pred_proba_train,\n",
    "        'preds_proba_test':pred_proba_test\n",
    "    }\n",
    "    print(f\"{mname} Scores:\\n\"\n",
    "          f\"Train:{model_scores[mname]['train']}\\n\"\n",
    "          f\"Test:{model_scores[mname]['test']}\\n\"\n",
    "          f\"F1 score Train:{model_scores[mname]['f1score_train']}\\n\"\n",
    "          f\"F1 score Test:{model_scores[mname]['f1score_test']}\\n\"\n",
    "          f\"Mean_CV_Score:{model_scores[mname]['Mean_CV_Score']}\")\n",
    "    print(f\"Best Params {mname}:\\n\"\n",
    "          f\"{model_runs[mname].best_params_}\")"
   ]
  },
  {
   "cell_type": "code",
   "execution_count": 26,
   "metadata": {},
   "outputs": [
    {
     "data": {
      "text/plain": [
       "13"
      ]
     },
     "execution_count": 26,
     "metadata": {},
     "output_type": "execute_result"
    }
   ],
   "source": [
    "# Check length\n",
    "\n",
    "len(features)"
   ]
  },
  {
   "cell_type": "code",
   "execution_count": 27,
   "metadata": {},
   "outputs": [
    {
     "data": {
      "image/png": "[encoded data removed]",
      "text/plain": [
       "<Figure size 400x600 with 2 Axes>"
      ]
     },
     "metadata": {},
     "output_type": "display_data"
    }
   ],
   "source": [
    "# View correlation\n",
    "\n",
    "corr_coef=dataset.corr()\n",
    "plt.figure(figsize=(4,6), dpi=100)\n",
    "sns.heatmap(corr_coef[['wage']].sort_values('wage',ascending=False),annot=True,cmap=\"BuPu\");"
   ]
  },
  {
   "cell_type": "code",
   "execution_count": 28,
   "metadata": {},
   "outputs": [],
   "source": [
    "# Create scores\n",
    "\n",
    "model_scores=pd.DataFrame(model_scores).T"
   ]
  },
  {
   "cell_type": "code",
   "execution_count": 29,
   "metadata": {},
   "outputs": [
    {
     "data": {
      "text/html": [
       "<div>\n",
       "<style scoped>\n",
       "    .dataframe tbody tr th:only-of-type {\n",
       "        vertical-align: middle;\n",
       "    }\n",
       "\n",
       "    .dataframe tbody tr th {\n",
       "        vertical-align: top;\n",
       "    }\n",
       "\n",
       "    .dataframe thead th {\n",
       "        text-align: right;\n",
       "    }\n",
       "</style>\n",
       "<table border=\"1\" class=\"dataframe\">\n",
       "  <thead>\n",
       "    <tr style=\"text-align: right;\">\n",
       "      <th></th>\n",
       "      <th>train</th>\n",
       "      <th>test</th>\n",
       "      <th>Mean_CV_Score</th>\n",
       "      <th>f1score_train</th>\n",
       "      <th>f1score_test</th>\n",
       "    </tr>\n",
       "  </thead>\n",
       "  <tbody>\n",
       "    <tr>\n",
       "      <th>RForest_Kemal</th>\n",
       "      <td>0.845384</td>\n",
       "      <td>0.846555</td>\n",
       "      <td>0.844551</td>\n",
       "      <td>0.608096</td>\n",
       "      <td>0.599305</td>\n",
       "    </tr>\n",
       "    <tr>\n",
       "      <th>LOGREG_Jonna</th>\n",
       "      <td>0.83933</td>\n",
       "      <td>0.83939</td>\n",
       "      <td>0.839286</td>\n",
       "      <td>0.625639</td>\n",
       "      <td>0.617783</td>\n",
       "    </tr>\n",
       "  </tbody>\n",
       "</table>\n",
       "</div>"
      ],
      "text/plain": [
       "                  train      test Mean_CV_Score f1score_train f1score_test\n",
       "RForest_Kemal  0.845384  0.846555      0.844551      0.608096     0.599305\n",
       "LOGREG_Jonna    0.83933   0.83939      0.839286      0.625639     0.617783"
      ]
     },
     "execution_count": 29,
     "metadata": {},
     "output_type": "execute_result"
    }
   ],
   "source": [
    "# View scores\n",
    "\n",
    "model_scores.drop(columns=['model','preds_proba_train','preds_proba_test']).sort_values(by='test', ascending=False)"
   ]
  },
  {
   "cell_type": "code",
   "execution_count": 30,
   "metadata": {},
   "outputs": [
    {
     "data": {
      "text/plain": [
       "Index(['age', 'workclass', 'fnlwgt', 'education', 'education_num',\n",
       "       'marital_status', 'occupation', 'relationship', 'sex', 'capital_gain',\n",
       "       'capital_loss', 'hours_per_week', 'native_country', 'ms_divorced',\n",
       "       'ms_married_af_spouse', 'ms_married_civ_spouse',\n",
       "       'ms_married_spouse_absent', 'ms_never_married', 'ms_separated',\n",
       "       'ms_widowed', 'wc_gov', 'wc_no_work', 'wc_other', 'sex_Female',\n",
       "       'sex_Male'],\n",
       "      dtype='object')"
      ]
     },
     "execution_count": 30,
     "metadata": {},
     "output_type": "execute_result"
    }
   ],
   "source": [
    "# Assign best model\n",
    "\n",
    "chosen_model = model_scores.loc['RForest_Kemal','model']\n",
    "test_data.columns"
   ]
  },
  {
   "cell_type": "code",
   "execution_count": 31,
   "metadata": {},
   "outputs": [
    {
     "data": {
      "text/html": [
       "<div>\n",
       "<style scoped>\n",
       "    .dataframe tbody tr th:only-of-type {\n",
       "        vertical-align: middle;\n",
       "    }\n",
       "\n",
       "    .dataframe tbody tr th {\n",
       "        vertical-align: top;\n",
       "    }\n",
       "\n",
       "    .dataframe thead th {\n",
       "        text-align: right;\n",
       "    }\n",
       "</style>\n",
       "<table border=\"1\" class=\"dataframe\">\n",
       "  <thead>\n",
       "    <tr style=\"text-align: right;\">\n",
       "      <th></th>\n",
       "      <th>wage</th>\n",
       "    </tr>\n",
       "  </thead>\n",
       "  <tbody>\n",
       "    <tr>\n",
       "      <th>0</th>\n",
       "      <td>0.039788</td>\n",
       "    </tr>\n",
       "    <tr>\n",
       "      <th>1</th>\n",
       "      <td>0.409858</td>\n",
       "    </tr>\n",
       "    <tr>\n",
       "      <th>2</th>\n",
       "      <td>0.072182</td>\n",
       "    </tr>\n",
       "    <tr>\n",
       "      <th>3</th>\n",
       "      <td>0.858896</td>\n",
       "    </tr>\n",
       "    <tr>\n",
       "      <th>4</th>\n",
       "      <td>0.199663</td>\n",
       "    </tr>\n",
       "    <tr>\n",
       "      <th>...</th>\n",
       "      <td>...</td>\n",
       "    </tr>\n",
       "    <tr>\n",
       "      <th>16276</th>\n",
       "      <td>0.585611</td>\n",
       "    </tr>\n",
       "    <tr>\n",
       "      <th>16277</th>\n",
       "      <td>0.081792</td>\n",
       "    </tr>\n",
       "    <tr>\n",
       "      <th>16278</th>\n",
       "      <td>0.179262</td>\n",
       "    </tr>\n",
       "    <tr>\n",
       "      <th>16279</th>\n",
       "      <td>0.398676</td>\n",
       "    </tr>\n",
       "    <tr>\n",
       "      <th>16280</th>\n",
       "      <td>0.200244</td>\n",
       "    </tr>\n",
       "  </tbody>\n",
       "</table>\n",
       "<p>16281 rows × 1 columns</p>\n",
       "</div>"
      ],
      "text/plain": [
       "           wage\n",
       "0      0.039788\n",
       "1      0.409858\n",
       "2      0.072182\n",
       "3      0.858896\n",
       "4      0.199663\n",
       "...         ...\n",
       "16276  0.585611\n",
       "16277  0.081792\n",
       "16278  0.179262\n",
       "16279  0.398676\n",
       "16280  0.200244\n",
       "\n",
       "[16281 rows x 1 columns]"
      ]
     },
     "execution_count": 31,
     "metadata": {},
     "output_type": "execute_result"
    }
   ],
   "source": [
    "# View probabilities\n",
    "\n",
    "X_output_test = test_data[features]\n",
    "X_output_test_sc = sc.transform(X_output_test)\n",
    "predictions = pd.Series(chosen_model.predict(X_output_test_sc))\n",
    "probabilities = pd.DataFrame([i[1] for i in chosen_model.predict_proba(X_output_test_sc)])\n",
    "output_to_file = probabilities\n",
    "output_to_file.columns=['wage']\n",
    "output_to_file"
   ]
  },
  {
   "cell_type": "code",
   "execution_count": 32,
   "metadata": {},
   "outputs": [],
   "source": [
    "# Export data \n",
    "\n",
    "output_to_file.to_csv('./data/predictons_RForest.csv',index=False,header=True)"
   ]
  },
  {
   "cell_type": "code",
   "execution_count": 33,
   "metadata": {},
   "outputs": [
    {
     "data": {
      "text/html": [
       "<div>\n",
       "<style scoped>\n",
       "    .dataframe tbody tr th:only-of-type {\n",
       "        vertical-align: middle;\n",
       "    }\n",
       "\n",
       "    .dataframe tbody tr th {\n",
       "        vertical-align: top;\n",
       "    }\n",
       "\n",
       "    .dataframe thead th {\n",
       "        text-align: right;\n",
       "    }\n",
       "</style>\n",
       "<table border=\"1\" class=\"dataframe\">\n",
       "  <thead>\n",
       "    <tr style=\"text-align: right;\">\n",
       "      <th></th>\n",
       "      <th>wage</th>\n",
       "    </tr>\n",
       "  </thead>\n",
       "  <tbody>\n",
       "    <tr>\n",
       "      <th>0</th>\n",
       "      <td>0.039788</td>\n",
       "    </tr>\n",
       "    <tr>\n",
       "      <th>1</th>\n",
       "      <td>0.409858</td>\n",
       "    </tr>\n",
       "    <tr>\n",
       "      <th>2</th>\n",
       "      <td>0.072182</td>\n",
       "    </tr>\n",
       "    <tr>\n",
       "      <th>3</th>\n",
       "      <td>0.858896</td>\n",
       "    </tr>\n",
       "    <tr>\n",
       "      <th>4</th>\n",
       "      <td>0.199663</td>\n",
       "    </tr>\n",
       "    <tr>\n",
       "      <th>...</th>\n",
       "      <td>...</td>\n",
       "    </tr>\n",
       "    <tr>\n",
       "      <th>16276</th>\n",
       "      <td>0.585611</td>\n",
       "    </tr>\n",
       "    <tr>\n",
       "      <th>16277</th>\n",
       "      <td>0.081792</td>\n",
       "    </tr>\n",
       "    <tr>\n",
       "      <th>16278</th>\n",
       "      <td>0.179262</td>\n",
       "    </tr>\n",
       "    <tr>\n",
       "      <th>16279</th>\n",
       "      <td>0.398676</td>\n",
       "    </tr>\n",
       "    <tr>\n",
       "      <th>16280</th>\n",
       "      <td>0.200244</td>\n",
       "    </tr>\n",
       "  </tbody>\n",
       "</table>\n",
       "<p>16281 rows × 1 columns</p>\n",
       "</div>"
      ],
      "text/plain": [
       "           wage\n",
       "0      0.039788\n",
       "1      0.409858\n",
       "2      0.072182\n",
       "3      0.858896\n",
       "4      0.199663\n",
       "...         ...\n",
       "16276  0.585611\n",
       "16277  0.081792\n",
       "16278  0.179262\n",
       "16279  0.398676\n",
       "16280  0.200244\n",
       "\n",
       "[16281 rows x 1 columns]"
      ]
     },
     "execution_count": 33,
     "metadata": {},
     "output_type": "execute_result"
    }
   ],
   "source": [
    "# View output file\n",
    "\n",
    "output_to_file"
   ]
  },
  {
   "cell_type": "code",
   "execution_count": 34,
   "metadata": {},
   "outputs": [],
   "source": [
    "# Save models under directory (save models to disk)\n",
    "    \n",
    "#     import pickle\n",
    "# import datetime\n",
    "# current_time = datetime.datetime.now().strftime(\"%Y_%m_%d_%H_%M_%S_\")\n",
    "# file_names = [str(f'./models/Round_2_Kemal_{mtr}_{current_time}.pkl')\n",
    "#               for mtr in model_scores.index]\n",
    "# for fn,model in zip(file_names,model_scores.items()):\n",
    "#     with open(fn, 'wb') as file:\n",
    "#         pickle.dump(model, file)\n",
    "#         file.close()"
   ]
  },
  {
   "cell_type": "markdown",
   "metadata": {},
   "source": [
    "## ROC Curve"
   ]
  },
  {
   "cell_type": "markdown",
   "metadata": {},
   "source": [
    "Using code obtained form https://github.com/bc123456/ROC"
   ]
  },
  {
   "cell_type": "code",
   "execution_count": 35,
   "metadata": {
    "slideshow": {
     "slide_type": "slide"
    }
   },
   "outputs": [
    {
     "name": "stdout",
     "output_type": "stream",
     "text": [
      "Train Accuracy: 0.7961565461565462 \n",
      "Train AUC: 0.8189528057796571 \n",
      "Train Confusion Matrix:\n",
      "[[13375  3890]\n",
      " [  756  4771]]\n",
      "Test Accuracy: 0.7926092742348244 \n",
      "Test AUC: 0.8122636133713835 \n",
      "Test Confusion Matrix:\n",
      "[[5777 1678]\n",
      " [ 348 1966]]\n"
     ]
    },
    {
     "data": {
      "image/png": "[encoded data removed]",
      "text/plain": [
       "<Figure size 1080x360 with 2 Axes>"
      ]
     },
     "metadata": {},
     "output_type": "display_data"
    },
    {
     "name": "stdout",
     "output_type": "stream",
     "text": [
      "Best Threshold: 0.26985382928204643\n"
     ]
    }
   ],
   "source": [
    "# Create ROC Curve\n",
    "\n",
    "sys.path.insert(0, os.path.abspath('./scripts/'))\n",
    "\n",
    "import roc_mod\n",
    "\n",
    "y_test_pos_prob = model_scores.loc['RForest_Kemal','preds_proba_test']\n",
    "y_train_pos_prob = model_scores.loc['RForest_Kemal','preds_proba_train']\n",
    "best_threshold = roc_mod.plot_ROC(y_train, y_train_pos_prob, y_test, y_test_pos_prob,fig_size=(15,5))"
   ]
  },
  {
   "cell_type": "markdown",
   "metadata": {},
   "source": [
    "## Confusion Matrix"
   ]
  },
  {
   "cell_type": "code",
   "execution_count": 36,
   "metadata": {
    "slideshow": {
     "slide_type": "slide"
    }
   },
   "outputs": [],
   "source": [
    "# Rethreshold\n",
    "\n",
    "def rethreshold(threshold, probas):\n",
    "    rethresholding = [1 if p\n",
    "                      >= threshold else 0 \n",
    "                      for p in probas]\n",
    "    return rethresholding"
   ]
  },
  {
   "cell_type": "markdown",
   "metadata": {},
   "source": [
    "**Train Confusion Matrix**"
   ]
  },
  {
   "cell_type": "code",
   "execution_count": 37,
   "metadata": {},
   "outputs": [
    {
     "data": {
      "text/html": [
       "<div>\n",
       "<style scoped>\n",
       "    .dataframe tbody tr th:only-of-type {\n",
       "        vertical-align: middle;\n",
       "    }\n",
       "\n",
       "    .dataframe tbody tr th {\n",
       "        vertical-align: top;\n",
       "    }\n",
       "\n",
       "    .dataframe thead th {\n",
       "        text-align: right;\n",
       "    }\n",
       "</style>\n",
       "<table border=\"1\" class=\"dataframe\">\n",
       "  <thead>\n",
       "    <tr style=\"text-align: right;\">\n",
       "      <th></th>\n",
       "      <th>Predicted &gt;50K</th>\n",
       "      <th>Predicted &lt;=50K</th>\n",
       "    </tr>\n",
       "  </thead>\n",
       "  <tbody>\n",
       "    <tr>\n",
       "      <th>Actual &gt;50K</th>\n",
       "      <td>13741</td>\n",
       "      <td>3524</td>\n",
       "    </tr>\n",
       "    <tr>\n",
       "      <th>Actual &lt;=50K</th>\n",
       "      <td>896</td>\n",
       "      <td>4631</td>\n",
       "    </tr>\n",
       "  </tbody>\n",
       "</table>\n",
       "</div>"
      ],
      "text/plain": [
       "              Predicted >50K  Predicted <=50K\n",
       "Actual >50K            13741             3524\n",
       "Actual <=50K             896             4631"
      ]
     },
     "execution_count": 37,
     "metadata": {},
     "output_type": "execute_result"
    }
   ],
   "source": [
    "# Create confusion matrix\n",
    "\n",
    "pd.DataFrame(confusion_matrix(y_train, rethreshold(0.2947530958189635,\n",
    "                                      model_scores.loc['RForest_Kemal','preds_proba_train'])),\n",
    "index=[f'Actual {positive_class}',f'Actual {negative_class}'],\n",
    "columns=[f'Predicted {positive_class}',f'Predicted {negative_class}'])"
   ]
  },
  {
   "cell_type": "markdown",
   "metadata": {},
   "source": [
    "**Test Confusion Matrix**"
   ]
  },
  {
   "cell_type": "code",
   "execution_count": 38,
   "metadata": {},
   "outputs": [
    {
     "data": {
      "text/html": [
       "<div>\n",
       "<style scoped>\n",
       "    .dataframe tbody tr th:only-of-type {\n",
       "        vertical-align: middle;\n",
       "    }\n",
       "\n",
       "    .dataframe tbody tr th {\n",
       "        vertical-align: top;\n",
       "    }\n",
       "\n",
       "    .dataframe thead th {\n",
       "        text-align: right;\n",
       "    }\n",
       "</style>\n",
       "<table border=\"1\" class=\"dataframe\">\n",
       "  <thead>\n",
       "    <tr style=\"text-align: right;\">\n",
       "      <th></th>\n",
       "      <th>Predicted &gt;50K</th>\n",
       "      <th>Predicted &lt;=50K</th>\n",
       "    </tr>\n",
       "  </thead>\n",
       "  <tbody>\n",
       "    <tr>\n",
       "      <th>Actual &gt;50K</th>\n",
       "      <td>5931</td>\n",
       "      <td>1524</td>\n",
       "    </tr>\n",
       "    <tr>\n",
       "      <th>Actual &lt;=50K</th>\n",
       "      <td>407</td>\n",
       "      <td>1907</td>\n",
       "    </tr>\n",
       "  </tbody>\n",
       "</table>\n",
       "</div>"
      ],
      "text/plain": [
       "              Predicted >50K  Predicted <=50K\n",
       "Actual >50K             5931             1524\n",
       "Actual <=50K             407             1907"
      ]
     },
     "execution_count": 38,
     "metadata": {},
     "output_type": "execute_result"
    }
   ],
   "source": [
    "# Create confusion matrix\n",
    "\n",
    "pd.DataFrame(confusion_matrix(y_test, \n",
    "                 rethreshold(0.2947530958189635,model_scores.loc['RForest_Kemal','preds_proba_test'])),\n",
    "index=[f'Actual {positive_class}',f'Actual {negative_class}'],\n",
    "columns=[f'Predicted {positive_class}',f'Predicted {negative_class}'])"
   ]
  },
  {
   "cell_type": "markdown",
   "metadata": {},
   "source": [
    "\n",
    "<a id=Conclusions></a>\n",
    "## Conclusions\n",
    "\n",
    "Random Forest was the best performing model with a combination of only thirteen (13) features. The final Training Accuracy Score was 84.5% and the final Testing Accuracy Score was 84.6%.  Eight (8) of the features were engineered with six (6) features created from 'marial_status' and two (2) features engineered from 'workclass.' The remaining features came directly from the raw dataset. Two other models , Logistic Regression and Support Vector Classifier, scored similarly but had slightly lower scores and a Training Accuracy Score that was slightly greater than the Testing Accuracy Score. \n"
   ]
  },
  {
   "cell_type": "code",
   "execution_count": null,
   "metadata": {},
   "outputs": [],
   "source": []
  }
 ],
 "metadata": {
  "kernelspec": {
   "display_name": "Python 3",
   "language": "python",
   "name": "python3"
  },
  "language_info": {
   "codemirror_mode": {
    "name": "ipython",
    "version": 3
   },
   "file_extension": ".py",
   "mimetype": "text/x-python",
   "name": "python",
   "nbconvert_exporter": "python",
   "pygments_lexer": "ipython3",
   "version": "3.7.6"
  }
 },
 "nbformat": 4,
 "nbformat_minor": 4
}
