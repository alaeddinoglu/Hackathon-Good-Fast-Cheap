{
 "cells": [
  {
   "cell_type": "markdown",
   "metadata": {},
   "source": [
    "## Round 2:\n",
    "\n",
    "**Features**:\n",
    "\n",
    "- age\n",
    "- education-num\n",
    "- marital-status\n",
    "- sex\n",
    "- workclass\n",
    "- hours per week\n",
    "- capital gains"
   ]
  },
  {
   "cell_type": "code",
   "execution_count": 185,
   "metadata": {},
   "outputs": [],
   "source": [
    "import os\n",
    "import sys\n",
    "import numpy as np\n",
    "import pandas as pd\n",
    "import seaborn as sns\n",
    "import matplotlib.pyplot as plt\n",
    "\n",
    "from sklearn.model_selection import train_test_split, cross_val_score\n",
    "from sklearn.ensemble import RandomForestClassifier, RandomForestRegressor, AdaBoostRegressor, AdaBoostClassifier\n",
    "from sklearn.preprocessing import StandardScaler\n",
    "from sklearn.linear_model import LinearRegression, LogisticRegression\n",
    "from sklearn import metrics\n",
    "from sklearn.metrics import f1_score\n",
    "from sklearn.neighbors import KNeighborsClassifier, KNeighborsRegressor\n",
    "from sklearn.tree import DecisionTreeRegressor, DecisionTreeClassifier\n",
    "from sklearn.ensemble import BaggingRegressor, BaggingClassifier\n",
    "from sklearn import svm\n",
    "from sklearn.metrics import confusion_matrix, classification_report, accuracy_score, roc_curve\n",
    "pd.set_option(\"display.max_rows\", 100)\n",
    "\n",
    "sns.set()\n"
   ]
  },
  {
   "cell_type": "code",
   "execution_count": 186,
   "metadata": {},
   "outputs": [],
   "source": [
    "dataset = pd.read_csv('./data/large_train_sample.csv')\n",
    "\n",
    "test_data = pd.read_csv('./data/test_data.csv')\n",
    "\n",
    "dataset.columns=[c.lower().replace('-','_') for c in dataset.columns]\n",
    "test_data.columns=[c.lower().replace('-','_') for c in test_data.columns]\n",
    "categorical_features = ['workclass', 'education',\n",
    "       'marital_status', 'occupation', 'relationship', 'sex', 'native_country']"
   ]
  },
  {
   "cell_type": "code",
   "execution_count": 187,
   "metadata": {},
   "outputs": [],
   "source": [
    "for c in categorical_features:\n",
    "    dataset[c]=dataset[c].replace('?','MISSING')\n",
    "    #test_data[c]=test_data[c].replace('?',None)\n",
    "\n",
    "dataset[categorical_features]=dataset[categorical_features].astype(str)\n",
    "test_data[categorical_features]=dataset[categorical_features].astype(str)\n",
    "\n",
    "dataset=dataset.dropna()\n",
    "#dataset['workclass']\n",
    "#test_data=test_data.dropna()"
   ]
  },
  {
   "cell_type": "code",
   "execution_count": 188,
   "metadata": {},
   "outputs": [
    {
     "data": {
      "text/plain": [
       "age               0\n",
       "workclass         0\n",
       "fnlwgt            0\n",
       "education         0\n",
       "education_num     0\n",
       "marital_status    0\n",
       "occupation        0\n",
       "relationship      0\n",
       "sex               0\n",
       "capital_gain      0\n",
       "capital_loss      0\n",
       "hours_per_week    0\n",
       "native_country    0\n",
       "wage              0\n",
       "dtype: int64"
      ]
     },
     "execution_count": 188,
     "metadata": {},
     "output_type": "execute_result"
    }
   ],
   "source": [
    "dataset.isnull().sum()"
   ]
  },
  {
   "cell_type": "code",
   "execution_count": 189,
   "metadata": {},
   "outputs": [],
   "source": [
    "dataset['wage']=dataset['wage'].astype(str)\n",
    "dataset['wage']=dataset['wage'].str.strip()\n",
    "dataset['wage']=dataset['wage'].map({'<=50K':0,'>50K':1})"
   ]
  },
  {
   "cell_type": "code",
   "execution_count": 190,
   "metadata": {},
   "outputs": [],
   "source": [
    "dataset[categorical_features]=dataset[categorical_features].apply(lambda x: x.str.strip())\n",
    "test_data[categorical_features]=test_data[categorical_features].apply(lambda x: x.str.strip())"
   ]
  },
  {
   "cell_type": "code",
   "execution_count": 191,
   "metadata": {},
   "outputs": [],
   "source": [
    "dataset['sex']=dataset['sex'].map({'Male':1,'Female':0})\n",
    "test_data['sex']=test_data['sex'].map({'Male':1,'Female':0})"
   ]
  },
  {
   "cell_type": "code",
   "execution_count": 192,
   "metadata": {},
   "outputs": [],
   "source": [
    "dataset['marital_status']=dataset['marital_status'].str.lower().str.replace('-','_')\n",
    "test_data['marital_status']=test_data['marital_status'].str.lower().str.replace('-','_')"
   ]
  },
  {
   "cell_type": "code",
   "execution_count": 193,
   "metadata": {},
   "outputs": [],
   "source": [
    "marital_status = pd.get_dummies(dataset['marital_status'],drop_first=True, prefix='ms')\n",
    "test_data_ms = pd.get_dummies(test_data['marital_status'],drop_first=True, prefix='ms')"
   ]
  },
  {
   "cell_type": "code",
   "execution_count": 194,
   "metadata": {},
   "outputs": [],
   "source": [
    "dataset['workclass_rebinned']=dataset['workclass'].map({'Private':'Private',\n",
    "                          'State-gov':'Gov',\n",
    "                          'Federal-gov':'Gov',\n",
    "                          'Local-gov':'Gov',\n",
    "                          'Self-emp-not-inc':'Self',\n",
    "                          'Self-emp-inc':'Self',\n",
    "                          'Without-pay':'Other',\n",
    "                          'Never-worked':'Other',\n",
    "                          'MISSING':'Other'              \n",
    "                         })"
   ]
  },
  {
   "cell_type": "code",
   "execution_count": 195,
   "metadata": {},
   "outputs": [],
   "source": [
    "workclass = pd.get_dummies(dataset['workclass_rebinned'],drop_first=True,prefix='wc')\n",
    "test_data_wc = pd.get_dummies(dataset['workclass_rebinned'],drop_first=True,prefix='wc')"
   ]
  },
  {
   "cell_type": "code",
   "execution_count": 196,
   "metadata": {},
   "outputs": [],
   "source": [
    "features = ['age','education_num','sex','hours_per_week','capital_gain']+list(marital_status.columns)+list(workclass.columns)"
   ]
  },
  {
   "cell_type": "code",
   "execution_count": 197,
   "metadata": {},
   "outputs": [
    {
     "data": {
      "text/plain": [
       "14"
      ]
     },
     "execution_count": 197,
     "metadata": {},
     "output_type": "execute_result"
    }
   ],
   "source": [
    "len(features)"
   ]
  },
  {
   "cell_type": "code",
   "execution_count": 198,
   "metadata": {},
   "outputs": [],
   "source": [
    "dataset = dataset.join(marital_status).join(workclass)\n",
    "test_data = test_data.join(test_data_ms).join(test_data_wc)"
   ]
  },
  {
   "cell_type": "code",
   "execution_count": 199,
   "metadata": {},
   "outputs": [
    {
     "name": "stdout",
     "output_type": "stream",
     "text": [
      "Fitting LOGREG_Jonna on X_train_sc\n",
      "LOGREG_Jonna Scores:\n",
      "Train:0.8396805896805897\n",
      "Test:0.839594636093766\n",
      "F1 score Train:0.626685737637924\n",
      "F1 score Test:0.6171512338138284\n",
      "Mean_CV_Score:0.8394613223283514\n",
      "Best Params LOGREG_Jonna:\n",
      "{'LOGREG_Jonna__C': 0.1, 'LOGREG_Jonna__penalty': 'l1', 'LOGREG_Jonna__solver': 'liblinear'}\n",
      "Fitting KNN_Kemal on X_train_sc\n",
      "KNN_Kemal Scores:\n",
      "Train:0.8502983502983503\n",
      "Test:0.8367284266557478\n",
      "F1 score Train:0.6603623332669719\n",
      "F1 score Test:0.6185123176273618\n",
      "Mean_CV_Score:0.8377062820543791\n",
      "Best Params KNN_Kemal:\n",
      "{'KNN_Kemal__algorithm': 'brute', 'KNN_Kemal__leaf_size': 30, 'KNN_Kemal__metric': 'euclidean', 'KNN_Kemal__n_neighbors': 21, 'KNN_Kemal__p': 1, 'KNN_Kemal__weights': 'uniform'}\n",
      "Fitting Adaboost_Reem on X_train_sc\n",
      "Adaboost_Reem Scores:\n",
      "Train:0.9321691821691822\n",
      "Test:0.8277203398505476\n",
      "F1 score Train:0.8576689375805561\n",
      "F1 score Test:0.6175869120654397\n",
      "Mean_CV_Score:0.8269569154301927\n",
      "Best Params Adaboost_Reem:\n",
      "{'Adaboost_Reem__algorithm': 'SAMME', 'Adaboost_Reem__base_estimator': RandomForestClassifier(), 'Adaboost_Reem__learning_rate': 1, 'Adaboost_Reem__n_estimators': 5}\n",
      "Fitting SVC_Reem on X_train_sc\n",
      "SVC_Reem Scores:\n",
      "Train:0.8457792207792207\n",
      "Test:0.8444057733647251\n",
      "F1 score Train:0.629102036509444\n",
      "F1 score Test:0.6124426313105559\n",
      "Mean_CV_Score:0.8448580220849724\n",
      "Best Params SVC_Reem:\n",
      "{'SVC_Reem__C': 0.5, 'SVC_Reem__degree': 2, 'SVC_Reem__kernel': 'rbf', 'SVC_Reem__tol': 0.001}\n"
     ]
    }
   ],
   "source": [
    "import matplotlib.pyplot as plt\n",
    "\n",
    "from sklearn import datasets\n",
    "from sklearn.linear_model import LogisticRegression\n",
    "from sklearn.preprocessing import StandardScaler\n",
    "from sklearn.neighbors import KNeighborsClassifier\n",
    "from sklearn.tree import DecisionTreeClassifier\n",
    "from sklearn.ensemble import BaggingClassifier,\\\n",
    "RandomForestClassifier,AdaBoostClassifier,ExtraTreesClassifier\n",
    "from sklearn.pipeline import Pipeline\n",
    "from sklearn.model_selection import GridSearchCV\n",
    "from sklearn.tree import DecisionTreeClassifier\n",
    "from sklearn.model_selection import train_test_split, GridSearchCV\n",
    "from sklearn.svm import SVC\n",
    "\n",
    "pipes_dict = dict()\n",
    "pipe_params = dict()\n",
    "model_runs = dict()\n",
    "model_scores = dict()\n",
    "predicts_probs = dict()\n",
    "\n",
    "#models = {'LOGREG':LogisticRegression()}\n",
    "models = {'LOGREG_Jonna':LogisticRegression(),'KNN_Kemal':KNeighborsClassifier(),'Adaboost_Reem':AdaBoostClassifier(),\n",
    "          'SVC_Reem':SVC(probability=True)}#,'RForest_Kemal':RandomForestClassifier(),'BagginClassifier_Jonna':BaggingClassifier(),}\n",
    "\n",
    "X=dataset[features]\n",
    "y=dataset['wage']\n",
    "\n",
    "X_train, X_test,y_train, y_test =\\\n",
    "train_test_split(X,y,train_size=0.70,random_state=42)\n",
    "\n",
    "sc = StandardScaler()\n",
    "X_train_sc= sc.fit_transform(X_train)\n",
    "X_test_sc = sc.transform(X_test)\n",
    "\n",
    "for mname, mvalue in models.items():    \n",
    "    pipe_params[mname]={}\n",
    "\n",
    "   \n",
    " \n",
    "pipe_params['LOGREG_Jonna'] = {\n",
    "    'LOGREG_Jonna__solver':['liblinear'],\n",
    "    'LOGREG_Jonna__penalty':['l1'],#,'l2'],#,ExtraTreesRegressor()],\n",
    "    'LOGREG_Jonna__C':[0.1]\n",
    "}\n",
    "   \n",
    "\n",
    "pipe_params['BaggingClassifier_Jonna'] = {    \n",
    "    'BaggingClassifier_Jonna__base_estimator':[None,RandomForestClassifier()],#,ExtraTreesRegressor()],\n",
    "     'BTree__max_features':[1], \n",
    "     'BTree__max_samples':[1],\n",
    "    'BTree__n_estimators':[10,50]#[5,10,20,50]\n",
    "}\n",
    "    \n",
    "   \n",
    "\n",
    "pipe_params['RForest_Kemal'] = {\n",
    "    #'RForest__n_estimators':[10,20,50,100],\n",
    "    #'RForest__criterion':[\"mse\"],#,\"mse\", \"mae\"],\n",
    "    #'RForest__splitter':[\"random\"],#[\"best\", \"random\"],\n",
    "    'RForest_Kemal__min_samples_split':[4],#2,\n",
    "    'RForest_Kemal__min_samples_leaf':[10],#,1,5,20],\n",
    "    'RForest_Kemal__min_weight_fraction_leaf':[0.0],\n",
    "    'RForest_Kemal__max_features':[\"sqrt\"],#[\"auto\", \"sqrt\", \"log2\"],\n",
    "    'RForest_Kemal__max_leaf_nodes':[30],#,10,None],\n",
    "    'RForest_Kemal__min_impurity_decrease':[0.0,0.5],\n",
    "    #'RForest__ccp_alpha':[0.1,0.5,1]\n",
    "}\n",
    "\n",
    "\n",
    "pipe_params['Adaboost_Reem']=[{\n",
    "    'Adaboost_Reem__base_estimator':[RandomForestClassifier()],#,ExtraTreesClassifier()],\n",
    "    'Adaboost_Reem__n_estimators':[5],#,10,20],#[5,10,20],\n",
    "    'Adaboost_Reem__learning_rate':[1],#[np.linspace(0.1,1,20)]0.5,\n",
    "    'Adaboost_Reem__algorithm':['SAMME']\n",
    "}]\n",
    "\n",
    "\n",
    "pipe_params['SVC_Reem']=[{\n",
    "    'SVC_Reem__kernel':['rbf'],#['linear', 'poly', 'rbf', 'sigmoid'],\n",
    "    'SVC_Reem__degree':[2],#,3,4],\n",
    "    'SVC_Reem__tol':[0.001],#[np.linspace(0.001,0.005,3),]\n",
    "    'SVC_Reem__C':[0.5]#[np.linspace(0.1,1,20)]\n",
    "}]\n",
    "        \n",
    "pipe_params['KNN_Kemal']=[{\n",
    "    'KNN_Kemal__n_neighbors':[21],#19,5,10,30,40,50],\n",
    "    'KNN_Kemal__algorithm':['brute'],#'auto', 'ball_tree', 'kd_tree',\n",
    "    'KNN_Kemal__weights':['uniform'],#,'distance'],\n",
    "    'KNN_Kemal__leaf_size':[30],#,40,50],\n",
    "    'KNN_Kemal__p':[1],#,2],\n",
    "    'KNN_Kemal__metric':['euclidean']#,'manhattan']\n",
    "}]\n",
    "    \n",
    "    \n",
    "for mname, mvalue in models.items():    \n",
    "    pipes_dict[mname]=Pipeline([\n",
    "        #('stsc', StandardScaler()),\n",
    "        (mname,mvalue)\n",
    "    ])\n",
    "    model_runs[mname]=GridSearchCV(pipes_dict[mname],\n",
    "                                   pipe_params[mname])\n",
    "    \n",
    "    print(f'Fitting {mname} on X_train_sc')\n",
    "    model_runs[mname].fit(X_train_sc,y_train)\n",
    "    preds_train = model_runs[mname].predict(X_train_sc)\n",
    "    preds_test = model_runs[mname].predict(X_test_sc)\n",
    "#     pred_proba_train = [i[1] for i in model_runs[mname].predict_proba(X_train_sc)]\n",
    "#     pred_proba_test = [i[1] for i in model_runs[mname].predict_proba(X_test_sc)]\n",
    "    \n",
    "#     predicts_probs[mname] = {'train_pred':preds_train,\n",
    "#                              'test_pred':preds_test,\n",
    "#                              'train_proba':pred_proba_train,\n",
    "#                              'test_proba':pred_proba_test}\n",
    "    model_scores[mname] ={\n",
    "        'model':model_runs[mname],\n",
    "        'train':model_runs[mname].score(X_train_sc,y_train),\n",
    "        'test':model_runs[mname].score(X_test_sc,y_test),\n",
    "        'Mean_CV_Score':model_runs[mname].best_score_,\n",
    "        'f1score_train':f1_score(y_train,preds_train),\n",
    "        'f1score_test':f1_score(y_test,preds_test),\n",
    "        \n",
    "    }\n",
    "    print(f\"{mname} Scores:\\n\"\n",
    "          f\"Train:{model_scores[mname]['train']}\\n\"\n",
    "          f\"Test:{model_scores[mname]['test']}\\n\"\n",
    "          f\"F1 score Train:{model_scores[mname]['f1score_train']}\\n\"\n",
    "          f\"F1 score Test:{model_scores[mname]['f1score_test']}\\n\"\n",
    "          f\"Mean_CV_Score:{model_scores[mname]['Mean_CV_Score']}\")\n",
    "    print(f\"Best Params {mname}:\\n\"\n",
    "          f\"{model_runs[mname].best_params_}\")"
   ]
  },
  {
   "cell_type": "code",
   "execution_count": 200,
   "metadata": {},
   "outputs": [
    {
     "data": {
      "text/plain": [
       "14"
      ]
     },
     "execution_count": 200,
     "metadata": {},
     "output_type": "execute_result"
    }
   ],
   "source": [
    "len(features)"
   ]
  },
  {
   "cell_type": "code",
   "execution_count": 201,
   "metadata": {},
   "outputs": [],
   "source": [
    "model_scores=pd.DataFrame(model_scores).T"
   ]
  },
  {
   "cell_type": "code",
   "execution_count": 208,
   "metadata": {},
   "outputs": [
    {
     "data": {
      "text/html": [
       "<div>\n",
       "<style scoped>\n",
       "    .dataframe tbody tr th:only-of-type {\n",
       "        vertical-align: middle;\n",
       "    }\n",
       "\n",
       "    .dataframe tbody tr th {\n",
       "        vertical-align: top;\n",
       "    }\n",
       "\n",
       "    .dataframe thead th {\n",
       "        text-align: right;\n",
       "    }\n",
       "</style>\n",
       "<table border=\"1\" class=\"dataframe\">\n",
       "  <thead>\n",
       "    <tr style=\"text-align: right;\">\n",
       "      <th></th>\n",
       "      <th>train</th>\n",
       "      <th>test</th>\n",
       "      <th>Mean_CV_Score</th>\n",
       "      <th>f1score_train</th>\n",
       "      <th>f1score_test</th>\n",
       "    </tr>\n",
       "  </thead>\n",
       "  <tbody>\n",
       "    <tr>\n",
       "      <th>SVC_Reem</th>\n",
       "      <td>0.845779</td>\n",
       "      <td>0.844406</td>\n",
       "      <td>0.844858</td>\n",
       "      <td>0.629102</td>\n",
       "      <td>0.612443</td>\n",
       "    </tr>\n",
       "    <tr>\n",
       "      <th>LOGREG_Jonna</th>\n",
       "      <td>0.839681</td>\n",
       "      <td>0.839595</td>\n",
       "      <td>0.839461</td>\n",
       "      <td>0.626686</td>\n",
       "      <td>0.617151</td>\n",
       "    </tr>\n",
       "    <tr>\n",
       "      <th>KNN_Kemal</th>\n",
       "      <td>0.850298</td>\n",
       "      <td>0.836728</td>\n",
       "      <td>0.837706</td>\n",
       "      <td>0.660362</td>\n",
       "      <td>0.618512</td>\n",
       "    </tr>\n",
       "    <tr>\n",
       "      <th>Adaboost_Reem</th>\n",
       "      <td>0.932169</td>\n",
       "      <td>0.82772</td>\n",
       "      <td>0.826957</td>\n",
       "      <td>0.857669</td>\n",
       "      <td>0.617587</td>\n",
       "    </tr>\n",
       "  </tbody>\n",
       "</table>\n",
       "</div>"
      ],
      "text/plain": [
       "                  train      test Mean_CV_Score f1score_train f1score_test\n",
       "SVC_Reem       0.845779  0.844406      0.844858      0.629102     0.612443\n",
       "LOGREG_Jonna   0.839681  0.839595      0.839461      0.626686     0.617151\n",
       "KNN_Kemal      0.850298  0.836728      0.837706      0.660362     0.618512\n",
       "Adaboost_Reem  0.932169   0.82772      0.826957      0.857669     0.617587"
      ]
     },
     "execution_count": 208,
     "metadata": {},
     "output_type": "execute_result"
    }
   ],
   "source": [
    "model_scores.drop(columns='model').sort_values(by='test', ascending=False)"
   ]
  },
  {
   "cell_type": "code",
   "execution_count": 203,
   "metadata": {},
   "outputs": [
    {
     "data": {
      "text/plain": [
       "Index(['age', 'workclass', 'fnlwgt', 'education', 'education_num',\n",
       "       'marital_status', 'occupation', 'relationship', 'sex', 'capital_gain',\n",
       "       'capital_loss', 'hours_per_week', 'native_country',\n",
       "       'ms_married_af_spouse', 'ms_married_civ_spouse',\n",
       "       'ms_married_spouse_absent', 'ms_never_married', 'ms_separated',\n",
       "       'ms_widowed', 'wc_Other', 'wc_Private', 'wc_Self'],\n",
       "      dtype='object')"
      ]
     },
     "execution_count": 203,
     "metadata": {},
     "output_type": "execute_result"
    }
   ],
   "source": [
    "chosen_model = model_scores.loc['SVC_Reem','model']\n",
    "test_data.columns"
   ]
  },
  {
   "cell_type": "code",
   "execution_count": 204,
   "metadata": {},
   "outputs": [
    {
     "data": {
      "text/html": [
       "<div>\n",
       "<style scoped>\n",
       "    .dataframe tbody tr th:only-of-type {\n",
       "        vertical-align: middle;\n",
       "    }\n",
       "\n",
       "    .dataframe tbody tr th {\n",
       "        vertical-align: top;\n",
       "    }\n",
       "\n",
       "    .dataframe thead th {\n",
       "        text-align: right;\n",
       "    }\n",
       "</style>\n",
       "<table border=\"1\" class=\"dataframe\">\n",
       "  <thead>\n",
       "    <tr style=\"text-align: right;\">\n",
       "      <th></th>\n",
       "      <th>wage</th>\n",
       "    </tr>\n",
       "  </thead>\n",
       "  <tbody>\n",
       "    <tr>\n",
       "      <th>0</th>\n",
       "      <td>0.107464</td>\n",
       "    </tr>\n",
       "    <tr>\n",
       "      <th>1</th>\n",
       "      <td>0.142617</td>\n",
       "    </tr>\n",
       "    <tr>\n",
       "      <th>2</th>\n",
       "      <td>0.076890</td>\n",
       "    </tr>\n",
       "    <tr>\n",
       "      <th>3</th>\n",
       "      <td>0.901278</td>\n",
       "    </tr>\n",
       "    <tr>\n",
       "      <th>4</th>\n",
       "      <td>0.081437</td>\n",
       "    </tr>\n",
       "    <tr>\n",
       "      <th>...</th>\n",
       "      <td>...</td>\n",
       "    </tr>\n",
       "    <tr>\n",
       "      <th>16276</th>\n",
       "      <td>0.713760</td>\n",
       "    </tr>\n",
       "    <tr>\n",
       "      <th>16277</th>\n",
       "      <td>0.089920</td>\n",
       "    </tr>\n",
       "    <tr>\n",
       "      <th>16278</th>\n",
       "      <td>0.141114</td>\n",
       "    </tr>\n",
       "    <tr>\n",
       "      <th>16279</th>\n",
       "      <td>0.428212</td>\n",
       "    </tr>\n",
       "    <tr>\n",
       "      <th>16280</th>\n",
       "      <td>0.150322</td>\n",
       "    </tr>\n",
       "  </tbody>\n",
       "</table>\n",
       "<p>16281 rows × 1 columns</p>\n",
       "</div>"
      ],
      "text/plain": [
       "           wage\n",
       "0      0.107464\n",
       "1      0.142617\n",
       "2      0.076890\n",
       "3      0.901278\n",
       "4      0.081437\n",
       "...         ...\n",
       "16276  0.713760\n",
       "16277  0.089920\n",
       "16278  0.141114\n",
       "16279  0.428212\n",
       "16280  0.150322\n",
       "\n",
       "[16281 rows x 1 columns]"
      ]
     },
     "execution_count": 204,
     "metadata": {},
     "output_type": "execute_result"
    }
   ],
   "source": [
    "X_output_test = test_data[features]\n",
    "X_output_test_sc = sc.transform(X_output_test)\n",
    "predictions = pd.Series(chosen_model.predict(X_output_test_sc))\n",
    "probabilities = pd.DataFrame([i[1] for i in chosen_model.predict_proba(X_output_test_sc)])\n",
    "output_to_file = probabilities\n",
    "output_to_file.columns=['wage']\n",
    "output_to_file"
   ]
  },
  {
   "cell_type": "code",
   "execution_count": 205,
   "metadata": {},
   "outputs": [],
   "source": [
    "output_to_file.to_csv('./data/predictons.csv',index=False,header=True)"
   ]
  },
  {
   "cell_type": "code",
   "execution_count": 206,
   "metadata": {},
   "outputs": [
    {
     "data": {
      "text/html": [
       "<div>\n",
       "<style scoped>\n",
       "    .dataframe tbody tr th:only-of-type {\n",
       "        vertical-align: middle;\n",
       "    }\n",
       "\n",
       "    .dataframe tbody tr th {\n",
       "        vertical-align: top;\n",
       "    }\n",
       "\n",
       "    .dataframe thead th {\n",
       "        text-align: right;\n",
       "    }\n",
       "</style>\n",
       "<table border=\"1\" class=\"dataframe\">\n",
       "  <thead>\n",
       "    <tr style=\"text-align: right;\">\n",
       "      <th></th>\n",
       "      <th>wage</th>\n",
       "    </tr>\n",
       "  </thead>\n",
       "  <tbody>\n",
       "    <tr>\n",
       "      <th>0</th>\n",
       "      <td>0.107464</td>\n",
       "    </tr>\n",
       "    <tr>\n",
       "      <th>1</th>\n",
       "      <td>0.142617</td>\n",
       "    </tr>\n",
       "    <tr>\n",
       "      <th>2</th>\n",
       "      <td>0.076890</td>\n",
       "    </tr>\n",
       "    <tr>\n",
       "      <th>3</th>\n",
       "      <td>0.901278</td>\n",
       "    </tr>\n",
       "    <tr>\n",
       "      <th>4</th>\n",
       "      <td>0.081437</td>\n",
       "    </tr>\n",
       "    <tr>\n",
       "      <th>...</th>\n",
       "      <td>...</td>\n",
       "    </tr>\n",
       "    <tr>\n",
       "      <th>16276</th>\n",
       "      <td>0.713760</td>\n",
       "    </tr>\n",
       "    <tr>\n",
       "      <th>16277</th>\n",
       "      <td>0.089920</td>\n",
       "    </tr>\n",
       "    <tr>\n",
       "      <th>16278</th>\n",
       "      <td>0.141114</td>\n",
       "    </tr>\n",
       "    <tr>\n",
       "      <th>16279</th>\n",
       "      <td>0.428212</td>\n",
       "    </tr>\n",
       "    <tr>\n",
       "      <th>16280</th>\n",
       "      <td>0.150322</td>\n",
       "    </tr>\n",
       "  </tbody>\n",
       "</table>\n",
       "<p>16281 rows × 1 columns</p>\n",
       "</div>"
      ],
      "text/plain": [
       "           wage\n",
       "0      0.107464\n",
       "1      0.142617\n",
       "2      0.076890\n",
       "3      0.901278\n",
       "4      0.081437\n",
       "...         ...\n",
       "16276  0.713760\n",
       "16277  0.089920\n",
       "16278  0.141114\n",
       "16279  0.428212\n",
       "16280  0.150322\n",
       "\n",
       "[16281 rows x 1 columns]"
      ]
     },
     "execution_count": 206,
     "metadata": {},
     "output_type": "execute_result"
    }
   ],
   "source": [
    "output_to_file"
   ]
  },
  {
   "cell_type": "code",
   "execution_count": 207,
   "metadata": {},
   "outputs": [],
   "source": [
    "import pickle\n",
    "import datetime\n",
    "current_time = datetime.datetime.now().strftime(\"%Y_%m_%d_%H_%M_%S_\")\n",
    "file_names = [str(f'./models/Round_2_{mtr}_{current_time}.pkl')\n",
    "              for mtr in model_scores.index]\n",
    "for fn,model in zip(file_names,model_scores.items()):\n",
    "    with open(fn, 'wb') as file:\n",
    "        pickle.dump(model, file)\n",
    "        file.close()"
   ]
  },
  {
   "cell_type": "code",
   "execution_count": null,
   "metadata": {},
   "outputs": [],
   "source": []
  },
  {
   "cell_type": "code",
   "execution_count": null,
   "metadata": {},
   "outputs": [],
   "source": []
  },
  {
   "cell_type": "code",
   "execution_count": null,
   "metadata": {},
   "outputs": [],
   "source": []
  }
 ],
 "metadata": {
  "kernelspec": {
   "display_name": "Python 3",
   "language": "python",
   "name": "python3"
  },
  "language_info": {
   "codemirror_mode": {
    "name": "ipython",
    "version": 3
   },
   "file_extension": ".py",
   "mimetype": "text/x-python",
   "name": "python",
   "nbconvert_exporter": "python",
   "pygments_lexer": "ipython3",
   "version": "3.7.6"
  }
 },
 "nbformat": 4,
 "nbformat_minor": 4
}
