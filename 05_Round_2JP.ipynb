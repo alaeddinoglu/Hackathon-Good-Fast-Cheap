{
 "cells": [
  {
   "cell_type": "markdown",
   "metadata": {},
   "source": [
    "## Round 2 - Jonna:\n",
    "\n",
    "**Features**:\n",
    "\n",
    "- age\n",
    "- education-num\n",
    "- marital-status\n",
    "- sex\n",
    "- workclass\n",
    "- hours per week\n",
    "- capital gains"
   ]
  },
  {
   "cell_type": "code",
   "execution_count": 1,
   "metadata": {},
   "outputs": [],
   "source": [
    "import os\n",
    "import sys\n",
    "import numpy as np\n",
    "import pandas as pd\n",
    "import seaborn as sns\n",
    "import matplotlib.pyplot as plt\n",
    "\n",
    "from sklearn.model_selection import train_test_split, cross_val_score\n",
    "from sklearn.ensemble import RandomForestClassifier, RandomForestRegressor, AdaBoostRegressor, AdaBoostClassifier\n",
    "from sklearn.preprocessing import StandardScaler\n",
    "from sklearn.linear_model import LinearRegression, LogisticRegression\n",
    "from sklearn import metrics\n",
    "from sklearn.metrics import f1_score\n",
    "from sklearn.neighbors import KNeighborsClassifier, KNeighborsRegressor\n",
    "from sklearn.tree import DecisionTreeRegressor, DecisionTreeClassifier\n",
    "from sklearn.ensemble import BaggingRegressor, BaggingClassifier\n",
    "from sklearn import svm\n",
    "from sklearn.metrics import confusion_matrix, classification_report, accuracy_score, roc_curve\n",
    "pd.set_option(\"display.max_rows\", 100)\n",
    "\n",
    "sns.set()\n"
   ]
  },
  {
   "cell_type": "code",
   "execution_count": 2,
   "metadata": {},
   "outputs": [],
   "source": [
    "dataset = pd.read_csv('./data/large_train_sample.csv')"
   ]
  },
  {
   "cell_type": "code",
   "execution_count": 3,
   "metadata": {},
   "outputs": [],
   "source": [
    "test_data = pd.read_csv('./data/test_data.csv')"
   ]
  },
  {
   "cell_type": "code",
   "execution_count": 4,
   "metadata": {},
   "outputs": [
    {
     "data": {
      "text/plain": [
       "Index(['age', 'workclass', 'fnlwgt', 'education', 'education-num',\n",
       "       'marital-status', 'occupation', 'relationship', 'sex', 'capital-gain',\n",
       "       'capital-loss', 'hours-per-week', 'native-country', 'wage'],\n",
       "      dtype='object')"
      ]
     },
     "execution_count": 4,
     "metadata": {},
     "output_type": "execute_result"
    }
   ],
   "source": [
    "dataset.columns"
   ]
  },
  {
   "cell_type": "code",
   "execution_count": 5,
   "metadata": {},
   "outputs": [],
   "source": [
    "categorical_features = ['workclass', 'education',\n",
    "       'marital-status', 'occupation', 'relationship', 'sex', 'native-country']"
   ]
  },
  {
   "cell_type": "code",
   "execution_count": 6,
   "metadata": {},
   "outputs": [],
   "source": [
    "for c in categorical_features:\n",
    "    dataset[c]=dataset[c].replace('?',None)\n",
    "    #test_data[c]=test_data[c].replace('?',None)"
   ]
  },
  {
   "cell_type": "code",
   "execution_count": 7,
   "metadata": {},
   "outputs": [],
   "source": [
    "dataset[categorical_features]=dataset[categorical_features].astype(str)\n",
    "test_data[categorical_features]=dataset[categorical_features].astype(str)"
   ]
  },
  {
   "cell_type": "code",
   "execution_count": 8,
   "metadata": {},
   "outputs": [
    {
     "data": {
      "text/plain": [
       "0                State-gov\n",
       "1         Self-emp-not-inc\n",
       "2                  Private\n",
       "3                  Private\n",
       "4                  Private\n",
       "               ...        \n",
       "32556              Private\n",
       "32557              Private\n",
       "32558              Private\n",
       "32559              Private\n",
       "32560         Self-emp-inc\n",
       "Name: workclass, Length: 32561, dtype: object"
      ]
     },
     "execution_count": 8,
     "metadata": {},
     "output_type": "execute_result"
    }
   ],
   "source": [
    "dataset=dataset.dropna()\n",
    "dataset['workclass']\n",
    "#test_data=test_data.dropna()"
   ]
  },
  {
   "cell_type": "code",
   "execution_count": 9,
   "metadata": {},
   "outputs": [
    {
     "data": {
      "text/plain": [
       "age               0\n",
       "workclass         0\n",
       "fnlwgt            0\n",
       "education         0\n",
       "education-num     0\n",
       "marital-status    0\n",
       "occupation        0\n",
       "relationship      0\n",
       "sex               0\n",
       "capital-gain      0\n",
       "capital-loss      0\n",
       "hours-per-week    0\n",
       "native-country    0\n",
       "wage              0\n",
       "dtype: int64"
      ]
     },
     "execution_count": 9,
     "metadata": {},
     "output_type": "execute_result"
    }
   ],
   "source": [
    "dataset.isnull().sum()"
   ]
  },
  {
   "cell_type": "code",
   "execution_count": 10,
   "metadata": {},
   "outputs": [],
   "source": [
    "dataset[categorical_features]=dataset[categorical_features].apply(lambda x: x.str.strip())\n",
    "test_data[categorical_features]=test_data[categorical_features].apply(lambda x: x.str.strip())"
   ]
  },
  {
   "cell_type": "code",
   "execution_count": 11,
   "metadata": {},
   "outputs": [],
   "source": [
    "dataset['wage']=dataset['wage'].astype(str)\n",
    "dataset['wage']=dataset['wage'].str.strip()\n",
    "dataset['wage']=dataset['wage'].map({'<=50K':0,'>50K':1})"
   ]
  },
  {
   "cell_type": "code",
   "execution_count": 12,
   "metadata": {},
   "outputs": [],
   "source": [
    "dataset['sex']=dataset['sex'].map({'Male':0,'Female':1})"
   ]
  },
  {
   "cell_type": "code",
   "execution_count": 13,
   "metadata": {},
   "outputs": [],
   "source": [
    "dataset['marital-status']=dataset['marital-status'].str.lower().str.replace('-','_')"
   ]
  },
  {
   "cell_type": "code",
   "execution_count": 14,
   "metadata": {},
   "outputs": [],
   "source": [
    "marital_status = pd.get_dummies(dataset['marital-status'],drop_first=True)"
   ]
  },
  {
   "cell_type": "code",
   "execution_count": 15,
   "metadata": {},
   "outputs": [],
   "source": [
    "dataset['workclass']=dataset['workclass'].map({'State-gov':\"government\",\n",
    "                                               'Federal-gov':\"government\", \n",
    "                                               'Local-gov':\"government\",\n",
    "                                               'Without-pay':\"no_work\",\n",
    "                                               'Never-worked':\"no_work\",\n",
    "                                               \"Private\":\"other\",\n",
    "                                               \"Self-emp-not-inc\":\"other\",\n",
    "                                               \"?\":\"other\",\n",
    "                                               \"Self-emp-inc\":\"other\",\n",
    "                                              }\n",
    "                                             )"
   ]
  },
  {
   "cell_type": "code",
   "execution_count": 16,
   "metadata": {},
   "outputs": [],
   "source": [
    "workclass = pd.get_dummies(dataset['workclass'],drop_first=True)"
   ]
  },
  {
   "cell_type": "code",
   "execution_count": 17,
   "metadata": {},
   "outputs": [
    {
     "data": {
      "text/plain": [
       "Index(['age', 'workclass', 'fnlwgt', 'education', 'education-num',\n",
       "       'marital-status', 'occupation', 'relationship', 'sex', 'capital-gain',\n",
       "       'capital-loss', 'hours-per-week', 'native-country', 'wage'],\n",
       "      dtype='object')"
      ]
     },
     "execution_count": 17,
     "metadata": {},
     "output_type": "execute_result"
    }
   ],
   "source": [
    "dataset.columns"
   ]
  },
  {
   "cell_type": "code",
   "execution_count": 18,
   "metadata": {},
   "outputs": [
    {
     "data": {
      "text/html": [
       "<div>\n",
       "<style scoped>\n",
       "    .dataframe tbody tr th:only-of-type {\n",
       "        vertical-align: middle;\n",
       "    }\n",
       "\n",
       "    .dataframe tbody tr th {\n",
       "        vertical-align: top;\n",
       "    }\n",
       "\n",
       "    .dataframe thead th {\n",
       "        text-align: right;\n",
       "    }\n",
       "</style>\n",
       "<table border=\"1\" class=\"dataframe\">\n",
       "  <thead>\n",
       "    <tr style=\"text-align: right;\">\n",
       "      <th></th>\n",
       "      <th>age</th>\n",
       "      <th>workclass</th>\n",
       "      <th>fnlwgt</th>\n",
       "      <th>education</th>\n",
       "      <th>education-num</th>\n",
       "      <th>marital-status</th>\n",
       "      <th>occupation</th>\n",
       "      <th>relationship</th>\n",
       "      <th>sex</th>\n",
       "      <th>capital-gain</th>\n",
       "      <th>capital-loss</th>\n",
       "      <th>hours-per-week</th>\n",
       "      <th>native-country</th>\n",
       "      <th>wage</th>\n",
       "    </tr>\n",
       "  </thead>\n",
       "  <tbody>\n",
       "    <tr>\n",
       "      <th>0</th>\n",
       "      <td>39</td>\n",
       "      <td>government</td>\n",
       "      <td>77516</td>\n",
       "      <td>Bachelors</td>\n",
       "      <td>13</td>\n",
       "      <td>never_married</td>\n",
       "      <td>Adm-clerical</td>\n",
       "      <td>Not-in-family</td>\n",
       "      <td>0</td>\n",
       "      <td>2174</td>\n",
       "      <td>0</td>\n",
       "      <td>40</td>\n",
       "      <td>United-States</td>\n",
       "      <td>0</td>\n",
       "    </tr>\n",
       "    <tr>\n",
       "      <th>1</th>\n",
       "      <td>50</td>\n",
       "      <td>other</td>\n",
       "      <td>83311</td>\n",
       "      <td>Bachelors</td>\n",
       "      <td>13</td>\n",
       "      <td>married_civ_spouse</td>\n",
       "      <td>Exec-managerial</td>\n",
       "      <td>Husband</td>\n",
       "      <td>0</td>\n",
       "      <td>0</td>\n",
       "      <td>0</td>\n",
       "      <td>13</td>\n",
       "      <td>United-States</td>\n",
       "      <td>0</td>\n",
       "    </tr>\n",
       "    <tr>\n",
       "      <th>2</th>\n",
       "      <td>38</td>\n",
       "      <td>other</td>\n",
       "      <td>215646</td>\n",
       "      <td>HS-grad</td>\n",
       "      <td>9</td>\n",
       "      <td>divorced</td>\n",
       "      <td>Handlers-cleaners</td>\n",
       "      <td>Not-in-family</td>\n",
       "      <td>0</td>\n",
       "      <td>0</td>\n",
       "      <td>0</td>\n",
       "      <td>40</td>\n",
       "      <td>United-States</td>\n",
       "      <td>0</td>\n",
       "    </tr>\n",
       "    <tr>\n",
       "      <th>3</th>\n",
       "      <td>53</td>\n",
       "      <td>other</td>\n",
       "      <td>234721</td>\n",
       "      <td>11th</td>\n",
       "      <td>7</td>\n",
       "      <td>married_civ_spouse</td>\n",
       "      <td>Handlers-cleaners</td>\n",
       "      <td>Husband</td>\n",
       "      <td>0</td>\n",
       "      <td>0</td>\n",
       "      <td>0</td>\n",
       "      <td>40</td>\n",
       "      <td>United-States</td>\n",
       "      <td>0</td>\n",
       "    </tr>\n",
       "    <tr>\n",
       "      <th>4</th>\n",
       "      <td>28</td>\n",
       "      <td>other</td>\n",
       "      <td>338409</td>\n",
       "      <td>Bachelors</td>\n",
       "      <td>13</td>\n",
       "      <td>married_civ_spouse</td>\n",
       "      <td>Prof-specialty</td>\n",
       "      <td>Wife</td>\n",
       "      <td>1</td>\n",
       "      <td>0</td>\n",
       "      <td>0</td>\n",
       "      <td>40</td>\n",
       "      <td>Cuba</td>\n",
       "      <td>0</td>\n",
       "    </tr>\n",
       "  </tbody>\n",
       "</table>\n",
       "</div>"
      ],
      "text/plain": [
       "   age   workclass  fnlwgt  education  education-num      marital-status  \\\n",
       "0   39  government   77516  Bachelors             13       never_married   \n",
       "1   50       other   83311  Bachelors             13  married_civ_spouse   \n",
       "2   38       other  215646    HS-grad              9            divorced   \n",
       "3   53       other  234721       11th              7  married_civ_spouse   \n",
       "4   28       other  338409  Bachelors             13  married_civ_spouse   \n",
       "\n",
       "          occupation   relationship  sex  capital-gain  capital-loss  \\\n",
       "0       Adm-clerical  Not-in-family    0          2174             0   \n",
       "1    Exec-managerial        Husband    0             0             0   \n",
       "2  Handlers-cleaners  Not-in-family    0             0             0   \n",
       "3  Handlers-cleaners        Husband    0             0             0   \n",
       "4     Prof-specialty           Wife    1             0             0   \n",
       "\n",
       "   hours-per-week native-country  wage  \n",
       "0              40  United-States     0  \n",
       "1              13  United-States     0  \n",
       "2              40  United-States     0  \n",
       "3              40  United-States     0  \n",
       "4              40           Cuba     0  "
      ]
     },
     "execution_count": 18,
     "metadata": {},
     "output_type": "execute_result"
    }
   ],
   "source": [
    "#REFERENCE\n",
    "dataset.head()\n",
    "# dataset['workclass'].value_counts()"
   ]
  },
  {
   "cell_type": "code",
   "execution_count": 19,
   "metadata": {},
   "outputs": [],
   "source": [
    "features = ['age','education-num','sex', 'hours-per-week', 'capital-gain']+list(marital_status.columns)+list(workclass.columns)"
   ]
  },
  {
   "cell_type": "code",
   "execution_count": 20,
   "metadata": {},
   "outputs": [],
   "source": [
    "dataset = dataset.join(marital_status)"
   ]
  },
  {
   "cell_type": "code",
   "execution_count": 21,
   "metadata": {},
   "outputs": [],
   "source": [
    "dataset = dataset.join(workclass)"
   ]
  },
  {
   "cell_type": "code",
   "execution_count": 22,
   "metadata": {},
   "outputs": [
    {
     "name": "stdout",
     "output_type": "stream",
     "text": [
      "Fitting LOGREG on X_train_sc\n",
      "LOGREG Scores:\n",
      "Train:0.8395050895050895\n",
      "Test:0.8390828129798341\n",
      "F1 score Train:0.6260478429768963\n",
      "F1 score Test:0.6169590643274854\n",
      "Mean_CV_Score:0.8394174434340995\n",
      "Best Params LOGREG:\n",
      "{'LOGREG__C': 0.1, 'LOGREG__penalty': 'l2', 'LOGREG__solver': 'liblinear'}\n",
      "Fitting BaggingClassifier_Jonna on X_train_sc\n",
      "BaggingClassifier_Jonna Scores:\n",
      "Train:0.7575026325026325\n",
      "Test:0.7631282628723514\n",
      "F1 score Train:0.0\n",
      "F1 score Test:0.0\n",
      "Mean_CV_Score:0.7575026412514927\n",
      "Best Params BaggingClassifier_Jonna:\n",
      "{'BaggingClassifier_Jonna__base_estimator': None, 'BaggingClassifier_Jonna__bootstrap': True, 'BaggingClassifier_Jonna__bootstrap_features': True, 'BaggingClassifier_Jonna__max_features': 1, 'BaggingClassifier_Jonna__max_samples': 1, 'BaggingClassifier_Jonna__n_estimators': 10, 'BaggingClassifier_Jonna__n_jobs': -1, 'BaggingClassifier_Jonna__oob_score': True, 'BaggingClassifier_Jonna__random_state': None, 'BaggingClassifier_Jonna__verbose': 0, 'BaggingClassifier_Jonna__warm_start': False}\n"
     ]
    }
   ],
   "source": [
    "import matplotlib.pyplot as plt\n",
    "\n",
    "from sklearn import datasets\n",
    "from sklearn.linear_model import LogisticRegression\n",
    "from sklearn.preprocessing import StandardScaler\n",
    "from sklearn.neighbors import KNeighborsClassifier\n",
    "from sklearn.tree import DecisionTreeClassifier\n",
    "from sklearn.ensemble import BaggingClassifier,\\\n",
    "RandomForestClassifier,AdaBoostClassifier,ExtraTreesClassifier\n",
    "from sklearn.pipeline import Pipeline\n",
    "from sklearn.model_selection import GridSearchCV\n",
    "from sklearn.tree import DecisionTreeClassifier\n",
    "from sklearn.model_selection import train_test_split, GridSearchCV\n",
    "from sklearn.svm import SVC\n",
    "\n",
    "pipes_dict = dict()\n",
    "pipe_params = dict()\n",
    "model_runs = dict()\n",
    "model_scores = dict()\n",
    "models = {'LOGREG':LogisticRegression(), 'BaggingClassifier_Jonna':BaggingClassifier()} \n",
    "#           'KNN':KNeighborsClassifier()}\n",
    "#           'Adaboost':AdaBoostClassifier(),\n",
    "#         'BagginClassifier_Jonna':BaggingClassifier(),\n",
    "#           'SVC':SVC(),'RForest':RandomForestClassifier()}\n",
    "\n",
    "\n",
    "\n",
    "X=dataset[features]\n",
    "y=dataset['wage']\n",
    "\n",
    "X_train, X_test,y_train, y_test =\\\n",
    "train_test_split(X,y,train_size=0.70,random_state=42)\n",
    "\n",
    "sc = StandardScaler()\n",
    "X_train_sc= sc.fit_transform(X_train)\n",
    "X_test_sc = sc.transform(X_test)\n",
    "\n",
    "for mname, mvalue in models.items():    \n",
    "    pipe_params[mname]={}\n",
    "\n",
    "   \n",
    " \n",
    "pipe_params['LOGREG'] = {\n",
    "    'LOGREG__solver':['liblinear'],\n",
    "    'LOGREG__penalty':['l1','l2'],#,ExtraTreesRegressor()],\n",
    "    'LOGREG__C':[0.1,0.2,0.5,0.8,1]\n",
    "}\n",
    "   \n",
    "\n",
    "pipe_params['BaggingClassifier_Jonna'] = {    \n",
    "    'BaggingClassifier_Jonna__base_estimator':[None,RandomForestClassifier(),ExtraTreesClassifier()],#,ExtraTreesRegressor()],\n",
    "    'BaggingClassifier_Jonna__max_features':[1], \n",
    "    'BaggingClassifier_Jonna__max_samples':[1],\n",
    "    'BaggingClassifier_Jonna__n_estimators':[5,10,20,50],\n",
    "    'BaggingClassifier_Jonna__bootstrap_features': [True],\n",
    "    'BaggingClassifier_Jonna__bootstrap': [True],\n",
    "    'BaggingClassifier_Jonna__oob_score': [True],\n",
    "    'BaggingClassifier_Jonna__warm_start': [False],\n",
    "    'BaggingClassifier_Jonna__n_jobs': [-1],\n",
    "    'BaggingClassifier_Jonna__random_state': [None],\n",
    "    'BaggingClassifier_Jonna__verbose': [0]\n",
    "}\n",
    "    \n",
    "# pipe_params['RForest'] = {\n",
    "#     #'RForest__n_estimators':[10,20,50,100],\n",
    "#     #'RForest__criterion':[\"mse\"],#,\"mse\", \"mae\"],\n",
    "#     #'RForest__splitter':[\"random\"],#[\"best\", \"random\"],\n",
    "#     'RForest__min_samples_split':[4],#2,\n",
    "#     'RForest__min_samples_leaf':[10],#,1,5,20],\n",
    "#     'RForest__min_weight_fraction_leaf':[0.0],\n",
    "#     'RForest__max_features':[\"sqrt\"],#[\"auto\", \"sqrt\", \"log2\"],\n",
    "#     'RForest__max_leaf_nodes':[30],#,10,None],\n",
    "#     'RForest__min_impurity_decrease':[0.0,0.5],\n",
    "#     #'RForest__ccp_alpha':[0.1,0.5,1]\n",
    "# }\n",
    "\n",
    "# pipe_params['DTree'] = {\n",
    "#     #'DTree__criterion':[\"mse\"],#, \"friedman_mse\", \"mae\"],\n",
    "#     'DTree__splitter':[\"random\"],#[\"best\", \"random\"],\n",
    "#     'DTree__min_samples_split':[2,4],\n",
    "#     'DTree__min_samples_leaf':[10],#,1,5,20],\n",
    "#     'DTree__min_weight_fraction_leaf':[0.0],\n",
    "#     'DTree__max_features':[\"auto\"],#, \"sqrt\", \"log2\"],\n",
    "#     'DTree__max_leaf_nodes':[None],#,10,30],\n",
    "#     'DTree__min_impurity_decrease':[0.0],#,0.5],\n",
    "#     'DTree__ccp_alpha':[0.1,0.5,1]\n",
    "# }\n",
    "\n",
    "# pipe_params['Adaboost']=[{\n",
    "#     'Adaboost__base_estimator':[RandomForestClassifier(),ExtraTreesClassifier()],\n",
    "#     'Adaboost__n_estimators':[5,10,20],#[5,10,20],\n",
    "#     'Adaboost__learning_rate':[0.5,1],#[np.linspace(0.1,1,20)]\n",
    "#     'Adaboost__algorithm':['SAMME']\n",
    "# }]\n",
    "\n",
    "\n",
    "# pipe_params['SVM']=[{\n",
    "#     'SVM__kernel':['linear'],#['linear', 'poly', 'rbf', 'sigmoid'],\n",
    "#     'SVM__degree':[2],#,3,4],\n",
    "#     'SVM__tol':[0.001],#[np.linspace(0.001,0.005,3),]\n",
    "#     'SVM__C':[1]#[np.linspace(0.1,1,20)]\n",
    "# }]\n",
    "        \n",
    "# pipe_params['KNN']=[{\n",
    "#     'KNN__n_neighbors':[19,21],#5,10,30,40,50],\n",
    "#     'KNN__algorithm':['auto', 'ball_tree', 'kd_tree', 'brute'],\n",
    "#     'KNN__weights':['uniform'],#,'distance'],\n",
    "#     'KNN__leaf_size':[30],#,40,50],\n",
    "#     'KNN__p':[1],#,2],\n",
    "#     'KNN__metric':['euclidean']#,'manhattan']\n",
    "# }]\n",
    "    \n",
    "    \n",
    "for mname, mvalue in models.items():    \n",
    "    pipes_dict[mname]=Pipeline([\n",
    "        #('stsc', StandardScaler()),\n",
    "        (mname,mvalue)\n",
    "    ])\n",
    "    model_runs[mname]=GridSearchCV(pipes_dict[mname],\n",
    "                                   pipe_params[mname])\n",
    "    \n",
    "    print(f'Fitting {mname} on X_train_sc')\n",
    "    model_runs[mname].fit(X_train_sc,y_train)\n",
    "    preds_train = model_runs[mname].predict(X_train_sc)\n",
    "    preds_test = model_runs[mname].predict(X_test_sc)\n",
    "    model_scores[mname] ={\n",
    "        'model':model_runs[mname],\n",
    "        'train':model_runs[mname].score(X_train_sc,y_train),\n",
    "        'test':model_runs[mname].score(X_test_sc,y_test),\n",
    "        'Mean_CV_Score':model_runs[mname].best_score_,\n",
    "        'f1score_train':f1_score(y_train,preds_train),\n",
    "        'f1score_test':f1_score(y_test,preds_test)\n",
    "    }\n",
    "    print(f\"{mname} Scores:\\n\"\n",
    "          f\"Train:{model_scores[mname]['train']}\\n\"\n",
    "          f\"Test:{model_scores[mname]['test']}\\n\"\n",
    "          f\"F1 score Train:{model_scores[mname]['f1score_train']}\\n\"\n",
    "          f\"F1 score Test:{model_scores[mname]['f1score_test']}\\n\"\n",
    "          f\"Mean_CV_Score:{model_scores[mname]['Mean_CV_Score']}\")\n",
    "    print(f\"Best Params {mname}:\\n\"\n",
    "          f\"{model_runs[mname].best_params_}\")"
   ]
  },
  {
   "cell_type": "code",
   "execution_count": 23,
   "metadata": {},
   "outputs": [
    {
     "data": {
      "text/plain": [
       "13"
      ]
     },
     "execution_count": 23,
     "metadata": {},
     "output_type": "execute_result"
    }
   ],
   "source": [
    "len(features)"
   ]
  },
  {
   "cell_type": "code",
   "execution_count": 24,
   "metadata": {},
   "outputs": [
    {
     "data": {
      "text/html": [
       "<div>\n",
       "<style scoped>\n",
       "    .dataframe tbody tr th:only-of-type {\n",
       "        vertical-align: middle;\n",
       "    }\n",
       "\n",
       "    .dataframe tbody tr th {\n",
       "        vertical-align: top;\n",
       "    }\n",
       "\n",
       "    .dataframe thead th {\n",
       "        text-align: right;\n",
       "    }\n",
       "</style>\n",
       "<table border=\"1\" class=\"dataframe\">\n",
       "  <thead>\n",
       "    <tr style=\"text-align: right;\">\n",
       "      <th></th>\n",
       "      <th>model</th>\n",
       "      <th>train</th>\n",
       "      <th>test</th>\n",
       "      <th>Mean_CV_Score</th>\n",
       "      <th>f1score_train</th>\n",
       "      <th>f1score_test</th>\n",
       "    </tr>\n",
       "  </thead>\n",
       "  <tbody>\n",
       "    <tr>\n",
       "      <th>LOGREG</th>\n",
       "      <td>GridSearchCV(cv=None, error_score=nan,\\n      ...</td>\n",
       "      <td>0.839505</td>\n",
       "      <td>0.839083</td>\n",
       "      <td>0.839417</td>\n",
       "      <td>0.626048</td>\n",
       "      <td>0.616959</td>\n",
       "    </tr>\n",
       "    <tr>\n",
       "      <th>BaggingClassifier_Jonna</th>\n",
       "      <td>GridSearchCV(cv=None, error_score=nan,\\n      ...</td>\n",
       "      <td>0.757503</td>\n",
       "      <td>0.763128</td>\n",
       "      <td>0.757503</td>\n",
       "      <td>0</td>\n",
       "      <td>0</td>\n",
       "    </tr>\n",
       "  </tbody>\n",
       "</table>\n",
       "</div>"
      ],
      "text/plain": [
       "                                                                     model  \\\n",
       "LOGREG                   GridSearchCV(cv=None, error_score=nan,\\n      ...   \n",
       "BaggingClassifier_Jonna  GridSearchCV(cv=None, error_score=nan,\\n      ...   \n",
       "\n",
       "                            train      test Mean_CV_Score f1score_train  \\\n",
       "LOGREG                   0.839505  0.839083      0.839417      0.626048   \n",
       "BaggingClassifier_Jonna  0.757503  0.763128      0.757503             0   \n",
       "\n",
       "                        f1score_test  \n",
       "LOGREG                      0.616959  \n",
       "BaggingClassifier_Jonna            0  "
      ]
     },
     "execution_count": 24,
     "metadata": {},
     "output_type": "execute_result"
    }
   ],
   "source": [
    "model_scores=pd.DataFrame(model_scores).T.sort_values(by='test',ascending=False)\n",
    "model_scores"
   ]
  },
  {
   "cell_type": "code",
   "execution_count": null,
   "metadata": {},
   "outputs": [],
   "source": []
  },
  {
   "cell_type": "code",
   "execution_count": null,
   "metadata": {},
   "outputs": [],
   "source": []
  },
  {
   "cell_type": "code",
   "execution_count": null,
   "metadata": {},
   "outputs": [],
   "source": []
  }
 ],
 "metadata": {
  "kernelspec": {
   "display_name": "Python 3",
   "language": "python",
   "name": "python3"
  },
  "language_info": {
   "codemirror_mode": {
    "name": "ipython",
    "version": 3
   },
   "file_extension": ".py",
   "mimetype": "text/x-python",
   "name": "python",
   "nbconvert_exporter": "python",
   "pygments_lexer": "ipython3",
   "version": "3.7.6"
  }
 },
 "nbformat": 4,
 "nbformat_minor": 4
}
