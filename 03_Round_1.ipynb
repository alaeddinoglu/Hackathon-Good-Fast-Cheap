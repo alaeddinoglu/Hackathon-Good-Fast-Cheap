{
 "cells": [
  {
   "cell_type": "markdown",
   "metadata": {},
   "source": [
    "## Round 1:\n",
    "\n",
    "**Features**: \n",
    "- age\n",
    "- education-num\n",
    "- marital-status\n",
    "- sex"
   ]
  },
  {
   "cell_type": "code",
   "execution_count": null,
   "metadata": {},
   "outputs": [],
   "source": [
    "import os\n",
    "import sys\n",
    "import numpy as np\n",
    "import pandas as pd\n",
    "import seaborn as sns\n",
    "import matplotlib.pyplot as plt\n",
    "\n",
    "from sklearn.model_selection import train_test_split, cross_val_score\n",
    "from sklearn.ensemble import RandomForestClassifier, RandomForestRegressor, AdaBoostRegressor, AdaBoostClassifier\n",
    "from sklearn.preprocessing import StandardScaler\n",
    "from sklearn.linear_model import LinearRegression, LogisticRegression\n",
    "from sklearn import metrics\n",
    "from sklearn.metrics import f1_score\n",
    "from sklearn.neighbors import KNeighborsClassifier, KNeighborsRegressor\n",
    "from sklearn.tree import DecisionTreeRegressor, DecisionTreeClassifier\n",
    "from sklearn.ensemble import BaggingRegressor, BaggingClassifier\n",
    "from sklearn import svm\n",
    "from sklearn.metrics import confusion_matrix, classification_report, accuracy_score, roc_curve\n",
    "pd.set_option(\"display.max_rows\", 100)\n",
    "\n",
    "sns.set()"
   ]
  },
  {
   "cell_type": "code",
   "execution_count": 4,
   "metadata": {},
   "outputs": [],
   "source": [
    "dataset = pd.read_csv('./data/large_train_sample.csv')\n",
    "\n",
    "test_data = pd.read_csv('./data/test_data.csv')\n",
    "\n",
    "dataset.columns=[c.lower().replace('-','_') for c in dataset.columns]\n",
    "test_data.columns=[c.lower().replace('-','_') for c in test_data.columns]\n",
    "categorical_features = ['workclass', 'education',\n",
    "       'marital_status', 'occupation', 'relationship', 'sex', 'native_country']"
   ]
  },
  {
   "cell_type": "code",
   "execution_count": 5,
   "metadata": {},
   "outputs": [],
   "source": [
    "for c in categorical_features:\n",
    "    dataset[c]=dataset[c].replace('?','MISSING')\n",
    "    #test_data[c]=test_data[c].replace('?',None)"
   ]
  },
  {
   "cell_type": "code",
   "execution_count": 6,
   "metadata": {},
   "outputs": [],
   "source": [
    "dataset[categorical_features]=dataset[categorical_features].astype(str)\n",
    "test_data[categorical_features]=dataset[categorical_features].astype(str)"
   ]
  },
  {
   "cell_type": "code",
   "execution_count": 7,
   "metadata": {},
   "outputs": [],
   "source": [
    "dataset=dataset.dropna()\n",
    "#test_data=test_data.dropna()"
   ]
  },
  {
   "cell_type": "code",
   "execution_count": 8,
   "metadata": {},
   "outputs": [
    {
     "data": {
      "text/plain": [
       "age               0\n",
       "workclass         0\n",
       "fnlwgt            0\n",
       "education         0\n",
       "education_num     0\n",
       "marital_status    0\n",
       "occupation        0\n",
       "relationship      0\n",
       "sex               0\n",
       "capital_gain      0\n",
       "capital_loss      0\n",
       "hours_per_week    0\n",
       "native_country    0\n",
       "wage              0\n",
       "dtype: int64"
      ]
     },
     "execution_count": 8,
     "metadata": {},
     "output_type": "execute_result"
    }
   ],
   "source": [
    "dataset.isnull().sum()"
   ]
  },
  {
   "cell_type": "code",
   "execution_count": 9,
   "metadata": {},
   "outputs": [],
   "source": [
    "dataset[categorical_features]=dataset[categorical_features].apply(lambda x: x.str.strip())\n",
    "test_data[categorical_features]=test_data[categorical_features].apply(lambda x: x.str.strip())"
   ]
  },
  {
   "cell_type": "code",
   "execution_count": 10,
   "metadata": {},
   "outputs": [],
   "source": [
    "dataset['wage']=dataset['wage'].astype(str)\n",
    "dataset['wage']=dataset['wage'].str.strip()\n",
    "dataset['wage']=dataset['wage'].map({'<=50K':0,'>50K':1})"
   ]
  },
  {
   "cell_type": "code",
   "execution_count": 11,
   "metadata": {},
   "outputs": [],
   "source": [
    "dataset['sex']=dataset['sex'].map({'Male':1,'Female':0})\n",
    "test_data['sex']=test_data['sex'].map({'Male':1,'Female':0})"
   ]
  },
  {
   "cell_type": "code",
   "execution_count": 12,
   "metadata": {},
   "outputs": [],
   "source": [
    "dataset['marital_status']=dataset['marital_status'].str.lower().str.replace('-','_')\n",
    "test_data['marital_status']=test_data['marital_status'].str.lower().str.replace('-','_')"
   ]
  },
  {
   "cell_type": "code",
   "execution_count": 13,
   "metadata": {},
   "outputs": [
    {
     "data": {
      "text/plain": [
       "Index(['age', 'workclass', 'fnlwgt', 'education', 'education_num',\n",
       "       'marital_status', 'occupation', 'relationship', 'sex', 'capital_gain',\n",
       "       'capital_loss', 'hours_per_week', 'native_country'],\n",
       "      dtype='object')"
      ]
     },
     "execution_count": 13,
     "metadata": {},
     "output_type": "execute_result"
    }
   ],
   "source": [
    "test_data.columns"
   ]
  },
  {
   "cell_type": "code",
   "execution_count": 14,
   "metadata": {},
   "outputs": [],
   "source": [
    "marital_status = pd.get_dummies(dataset['marital_status'],drop_first=True, prefix='ms')\n",
    "test_data_ms = pd.get_dummies(test_data['marital_status'],drop_first=True, prefix='ms')"
   ]
  },
  {
   "cell_type": "code",
   "execution_count": 15,
   "metadata": {},
   "outputs": [],
   "source": [
    "features = ['age','education_num','sex']+list(marital_status.columns)"
   ]
  },
  {
   "cell_type": "code",
   "execution_count": 16,
   "metadata": {},
   "outputs": [
    {
     "data": {
      "text/plain": [
       "Index(['age', 'workclass', 'fnlwgt', 'education', 'education_num',\n",
       "       'marital_status', 'occupation', 'relationship', 'sex', 'capital_gain',\n",
       "       'capital_loss', 'hours_per_week', 'native_country', 'wage'],\n",
       "      dtype='object')"
      ]
     },
     "execution_count": 16,
     "metadata": {},
     "output_type": "execute_result"
    }
   ],
   "source": [
    "dataset.columns"
   ]
  },
  {
   "cell_type": "code",
   "execution_count": 17,
   "metadata": {},
   "outputs": [],
   "source": [
    "dataset = dataset.join(marital_status)\n",
    "test_data = test_data.join(test_data_ms)"
   ]
  },
  {
   "cell_type": "code",
   "execution_count": 18,
   "metadata": {},
   "outputs": [
    {
     "name": "stdout",
     "output_type": "stream",
     "text": [
      "Fitting LOGREG_Jonna on X_train_sc\n",
      "LOGREG_Jonna Scores:\n",
      "Train:0.8185328185328186\n",
      "Test:0.8191217115364929\n",
      "F1 score Train:0.5609341825902336\n",
      "F1 score Test:0.5442352334279082\n",
      "Mean_CV_Score:0.8180941680146827\n",
      "Best Params LOGREG_Jonna:\n",
      "{'LOGREG_Jonna__C': 0.1, 'LOGREG_Jonna__penalty': 'l1', 'LOGREG_Jonna__solver': 'liblinear'}\n",
      "Fitting KNN_Kemal on X_train_sc\n",
      "KNN_Kemal Scores:\n",
      "Train:0.8302474552474552\n",
      "Test:0.8173815129491248\n",
      "F1 score Train:0.6119747267074516\n",
      "F1 score Test:0.5694980694980694\n",
      "Mean_CV_Score:0.8208581822395675\n",
      "Best Params KNN_Kemal:\n",
      "{'KNN_Kemal__algorithm': 'ball_tree', 'KNN_Kemal__leaf_size': 30, 'KNN_Kemal__metric': 'euclidean', 'KNN_Kemal__n_neighbors': 21, 'KNN_Kemal__p': 1, 'KNN_Kemal__weights': 'uniform'}\n",
      "Fitting Adaboost_Reem on X_train_sc\n",
      "Adaboost_Reem Scores:\n",
      "Train:0.8459108459108459\n",
      "Test:0.808475790766711\n",
      "F1 score Train:0.6604138464513633\n",
      "F1 score Test:0.5693901035673188\n",
      "Mean_CV_Score:0.8125657257038789\n",
      "Best Params Adaboost_Reem:\n",
      "{'Adaboost_Reem__algorithm': 'SAMME', 'Adaboost_Reem__base_estimator': RandomForestClassifier(), 'Adaboost_Reem__learning_rate': 0.5, 'Adaboost_Reem__n_estimators': 5}\n",
      "Fitting BagginClassifier_Jonna on X_train_sc\n",
      "BagginClassifier_Jonna Scores:\n",
      "Train:0.84498946998947\n",
      "Test:0.8086805200122837\n",
      "F1 score Train:0.653797158255757\n",
      "F1 score Test:0.5619873447386923\n",
      "Mean_CV_Score:0.8106792604900057\n",
      "Best Params BagginClassifier_Jonna:\n",
      "{}\n",
      "Fitting SVC_Reem on X_train_sc\n",
      "SVC_Reem Scores:\n",
      "Train:0.8194541944541944\n",
      "Test:0.8192240761592794\n",
      "F1 score Train:0.5489422339142827\n",
      "F1 score Test:0.5328042328042328\n",
      "Mean_CV_Score:0.8194542404923368\n",
      "Best Params SVC_Reem:\n",
      "{'SVC_Reem__C': 1, 'SVC_Reem__degree': 2, 'SVC_Reem__kernel': 'linear', 'SVC_Reem__tol': 0.001}\n",
      "Fitting RForest_Kemal on X_train_sc\n",
      "RForest_Kemal Scores:\n",
      "Train:0.8234468234468234\n",
      "Test:0.8220902855972976\n",
      "F1 score Train:0.544487208512565\n",
      "F1 score Test:0.5240963855421686\n",
      "Mean_CV_Score:0.8209899825418017\n",
      "Best Params RForest_Kemal:\n",
      "{'RForest_Kemal__max_features': 'sqrt', 'RForest_Kemal__max_leaf_nodes': 30, 'RForest_Kemal__min_impurity_decrease': 0.0, 'RForest_Kemal__min_samples_leaf': 10, 'RForest_Kemal__min_samples_split': 4, 'RForest_Kemal__min_weight_fraction_leaf': 0.0}\n"
     ]
    }
   ],
   "source": [
    "import matplotlib.pyplot as plt\n",
    "\n",
    "from sklearn import datasets\n",
    "from sklearn.linear_model import LogisticRegression\n",
    "from sklearn.preprocessing import StandardScaler\n",
    "from sklearn.neighbors import KNeighborsClassifier\n",
    "from sklearn.tree import DecisionTreeClassifier\n",
    "from sklearn.ensemble import BaggingClassifier,\\\n",
    "RandomForestClassifier,AdaBoostClassifier,ExtraTreesClassifier\n",
    "from sklearn.pipeline import Pipeline\n",
    "from sklearn.model_selection import GridSearchCV\n",
    "from sklearn.tree import DecisionTreeClassifier\n",
    "from sklearn.model_selection import train_test_split, GridSearchCV\n",
    "from sklearn.svm import SVC\n",
    "\n",
    "pipes_dict = dict()\n",
    "pipe_params = dict()\n",
    "model_runs = dict()\n",
    "model_scores = dict()\n",
    "predicts_probs = dict()\n",
    "\n",
    "#models = {'LOGREG':LogisticRegression()}\n",
    "models = {'LOGREG_Jonna':LogisticRegression(),'KNN_Kemal':KNeighborsClassifier(),'Adaboost_Reem':AdaBoostClassifier(),\n",
    "           'BagginClassifier_Jonna':BaggingClassifier(),'SVC_Reem':SVC(),'RForest_Kemal':RandomForestClassifier()}\n",
    "\n",
    "\n",
    "\n",
    "X=dataset[features]\n",
    "y=dataset['wage']\n",
    "\n",
    "X_train, X_test,y_train, y_test =\\\n",
    "train_test_split(X,y,train_size=0.70,random_state=42)\n",
    "\n",
    "sc = StandardScaler()\n",
    "X_train_sc= sc.fit_transform(X_train)\n",
    "X_test_sc = sc.transform(X_test)\n",
    "\n",
    "for mname, mvalue in models.items():    \n",
    "    pipe_params[mname]={}\n",
    "\n",
    "   \n",
    " \n",
    "pipe_params['LOGREG_Jonna'] = {\n",
    "    'LOGREG_Jonna__solver':['liblinear'],\n",
    "    'LOGREG_Jonna__penalty':['l1','l2'],#,ExtraTreesRegressor()],\n",
    "    'LOGREG_Jonna__C':[0.1,0.2,0.5,0.8,1]\n",
    "}\n",
    "   \n",
    "\n",
    "pipe_params['BaggingClassifier_Jonna'] = {    \n",
    "    'BaggingClassifier_Jonna__base_estimator':[None,RandomForestClassifier()],#,ExtraTreesRegressor()],\n",
    "     'BTree__max_features':[1], \n",
    "     'BTree__max_samples':[1],\n",
    "    'BTree__n_estimators':[10,50]#[5,10,20,50]\n",
    "}\n",
    "    \n",
    "   \n",
    "\n",
    "pipe_params['RForest_Kemal'] = {\n",
    "    #'RForest__n_estimators':[10,20,50,100],\n",
    "    #'RForest__criterion':[\"mse\"],#,\"mse\", \"mae\"],\n",
    "    #'RForest__splitter':[\"random\"],#[\"best\", \"random\"],\n",
    "    'RForest_Kemal__min_samples_split':[4],#2,\n",
    "    'RForest_Kemal__min_samples_leaf':[10],#,1,5,20],\n",
    "    'RForest_Kemal__min_weight_fraction_leaf':[0.0],\n",
    "    'RForest_Kemal__max_features':[\"sqrt\"],#[\"auto\", \"sqrt\", \"log2\"],\n",
    "    'RForest_Kemal__max_leaf_nodes':[30],#,10,None],\n",
    "    'RForest_Kemal__min_impurity_decrease':[0.0,0.5],\n",
    "    #'RForest__ccp_alpha':[0.1,0.5,1]\n",
    "}\n",
    "\n",
    "\n",
    "pipe_params['Adaboost_Reem']=[{\n",
    "    'Adaboost_Reem__base_estimator':[RandomForestClassifier(),ExtraTreesClassifier()],\n",
    "    'Adaboost_Reem__n_estimators':[5],#,10,20],#[5,10,20],\n",
    "    'Adaboost_Reem__learning_rate':[0.5,1],#[np.linspace(0.1,1,20)]\n",
    "    'Adaboost_Reem__algorithm':['SAMME']\n",
    "}]\n",
    "\n",
    "\n",
    "pipe_params['SVC_Reem']=[{\n",
    "    'SVC_Reem__kernel':['linear'],#['linear', 'poly', 'rbf', 'sigmoid'],\n",
    "    'SVC_Reem__degree':[2],#,3,4],\n",
    "    'SVC_Reem__tol':[0.001],#[np.linspace(0.001,0.005,3),]\n",
    "    'SVC_Reem__C':[1]#[np.linspace(0.1,1,20)]\n",
    "}]\n",
    "        \n",
    "pipe_params['KNN_Kemal']=[{\n",
    "    'KNN_Kemal__n_neighbors':[19,21],#5,10,30,40,50],\n",
    "    'KNN_Kemal__algorithm':['auto', 'ball_tree', 'kd_tree', 'brute'],\n",
    "    'KNN_Kemal__weights':['uniform'],#,'distance'],\n",
    "    'KNN_Kemal__leaf_size':[30],#,40,50],\n",
    "    'KNN_Kemal__p':[1],#,2],\n",
    "    'KNN_Kemal__metric':['euclidean']#,'manhattan']\n",
    "}]\n",
    "    \n",
    "    \n",
    "for mname, mvalue in models.items():    \n",
    "    pipes_dict[mname]=Pipeline([\n",
    "        #('stsc', StandardScaler()),\n",
    "        (mname,mvalue)\n",
    "    ])\n",
    "    model_runs[mname]=GridSearchCV(pipes_dict[mname],\n",
    "                                   pipe_params[mname])\n",
    "    \n",
    "    print(f'Fitting {mname} on X_train_sc')\n",
    "    model_runs[mname].fit(X_train_sc,y_train)\n",
    "    preds_train = model_runs[mname].predict(X_train_sc)\n",
    "    preds_test = model_runs[mname].predict(X_test_sc)\n",
    "#     pred_proba_train = [i[1] for i in model_runs[mname].predict_proba(X_train_sc)]\n",
    "#     pred_proba_test = [i[1] for i in model_runs[mname].predict_proba(X_test_sc)]\n",
    "    \n",
    "#     predicts_probs[mname] = {'train_pred':preds_train,\n",
    "#                              'test_pred':preds_test,\n",
    "#                              'train_proba':pred_proba_train,\n",
    "#                              'test_proba':pred_proba_test}\n",
    "    model_scores[mname] ={\n",
    "        'model':model_runs[mname],\n",
    "        'train':model_runs[mname].score(X_train_sc,y_train),\n",
    "        'test':model_runs[mname].score(X_test_sc,y_test),\n",
    "        'Mean_CV_Score':model_runs[mname].best_score_,\n",
    "        'f1score_train':f1_score(y_train,preds_train),\n",
    "        'f1score_test':f1_score(y_test,preds_test),\n",
    "        \n",
    "    }\n",
    "    print(f\"{mname} Scores:\\n\"\n",
    "          f\"Train:{model_scores[mname]['train']}\\n\"\n",
    "          f\"Test:{model_scores[mname]['test']}\\n\"\n",
    "          f\"F1 score Train:{model_scores[mname]['f1score_train']}\\n\"\n",
    "          f\"F1 score Test:{model_scores[mname]['f1score_test']}\\n\"\n",
    "          f\"Mean_CV_Score:{model_scores[mname]['Mean_CV_Score']}\")\n",
    "    print(f\"Best Params {mname}:\\n\"\n",
    "          f\"{model_runs[mname].best_params_}\")"
   ]
  },
  {
   "cell_type": "code",
   "execution_count": 19,
   "metadata": {},
   "outputs": [
    {
     "name": "stdout",
     "output_type": "stream",
     "text": [
      "9\n"
     ]
    }
   ],
   "source": [
    "print(len(features))\n",
    "model_scores=pd.DataFrame(model_scores).T"
   ]
  },
  {
   "cell_type": "code",
   "execution_count": 20,
   "metadata": {},
   "outputs": [
    {
     "data": {
      "text/html": [
       "<div>\n",
       "<style scoped>\n",
       "    .dataframe tbody tr th:only-of-type {\n",
       "        vertical-align: middle;\n",
       "    }\n",
       "\n",
       "    .dataframe tbody tr th {\n",
       "        vertical-align: top;\n",
       "    }\n",
       "\n",
       "    .dataframe thead th {\n",
       "        text-align: right;\n",
       "    }\n",
       "</style>\n",
       "<table border=\"1\" class=\"dataframe\">\n",
       "  <thead>\n",
       "    <tr style=\"text-align: right;\">\n",
       "      <th></th>\n",
       "      <th>train</th>\n",
       "      <th>test</th>\n",
       "      <th>Mean_CV_Score</th>\n",
       "      <th>f1score_train</th>\n",
       "      <th>f1score_test</th>\n",
       "    </tr>\n",
       "  </thead>\n",
       "  <tbody>\n",
       "    <tr>\n",
       "      <th>RForest_Kemal</th>\n",
       "      <td>0.823447</td>\n",
       "      <td>0.82209</td>\n",
       "      <td>0.82099</td>\n",
       "      <td>0.544487</td>\n",
       "      <td>0.524096</td>\n",
       "    </tr>\n",
       "    <tr>\n",
       "      <th>KNN_Kemal</th>\n",
       "      <td>0.830247</td>\n",
       "      <td>0.817382</td>\n",
       "      <td>0.820858</td>\n",
       "      <td>0.611975</td>\n",
       "      <td>0.569498</td>\n",
       "    </tr>\n",
       "    <tr>\n",
       "      <th>SVC_Reem</th>\n",
       "      <td>0.819454</td>\n",
       "      <td>0.819224</td>\n",
       "      <td>0.819454</td>\n",
       "      <td>0.548942</td>\n",
       "      <td>0.532804</td>\n",
       "    </tr>\n",
       "    <tr>\n",
       "      <th>LOGREG_Jonna</th>\n",
       "      <td>0.818533</td>\n",
       "      <td>0.819122</td>\n",
       "      <td>0.818094</td>\n",
       "      <td>0.560934</td>\n",
       "      <td>0.544235</td>\n",
       "    </tr>\n",
       "    <tr>\n",
       "      <th>Adaboost_Reem</th>\n",
       "      <td>0.845911</td>\n",
       "      <td>0.808476</td>\n",
       "      <td>0.812566</td>\n",
       "      <td>0.660414</td>\n",
       "      <td>0.56939</td>\n",
       "    </tr>\n",
       "    <tr>\n",
       "      <th>BagginClassifier_Jonna</th>\n",
       "      <td>0.844989</td>\n",
       "      <td>0.808681</td>\n",
       "      <td>0.810679</td>\n",
       "      <td>0.653797</td>\n",
       "      <td>0.561987</td>\n",
       "    </tr>\n",
       "  </tbody>\n",
       "</table>\n",
       "</div>"
      ],
      "text/plain": [
       "                           train      test Mean_CV_Score f1score_train  \\\n",
       "RForest_Kemal           0.823447   0.82209       0.82099      0.544487   \n",
       "KNN_Kemal               0.830247  0.817382      0.820858      0.611975   \n",
       "SVC_Reem                0.819454  0.819224      0.819454      0.548942   \n",
       "LOGREG_Jonna            0.818533  0.819122      0.818094      0.560934   \n",
       "Adaboost_Reem           0.845911  0.808476      0.812566      0.660414   \n",
       "BagginClassifier_Jonna  0.844989  0.808681      0.810679      0.653797   \n",
       "\n",
       "                       f1score_test  \n",
       "RForest_Kemal              0.524096  \n",
       "KNN_Kemal                  0.569498  \n",
       "SVC_Reem                   0.532804  \n",
       "LOGREG_Jonna               0.544235  \n",
       "Adaboost_Reem               0.56939  \n",
       "BagginClassifier_Jonna     0.561987  "
      ]
     },
     "execution_count": 20,
     "metadata": {},
     "output_type": "execute_result"
    }
   ],
   "source": [
    "model_scores.drop(columns='model').sort_values(by='Mean_CV_Score',ascending=False)"
   ]
  },
  {
   "cell_type": "code",
   "execution_count": 21,
   "metadata": {},
   "outputs": [
    {
     "data": {
      "text/plain": [
       "Index(['age', 'workclass', 'fnlwgt', 'education', 'education_num',\n",
       "       'marital_status', 'occupation', 'relationship', 'sex', 'capital_gain',\n",
       "       'capital_loss', 'hours_per_week', 'native_country',\n",
       "       'ms_married_af_spouse', 'ms_married_civ_spouse',\n",
       "       'ms_married_spouse_absent', 'ms_never_married', 'ms_separated',\n",
       "       'ms_widowed'],\n",
       "      dtype='object')"
      ]
     },
     "execution_count": 21,
     "metadata": {},
     "output_type": "execute_result"
    }
   ],
   "source": [
    "chosen_model = model_scores.loc['RForest_Kemal','model']\n",
    "test_data.columns"
   ]
  },
  {
   "cell_type": "code",
   "execution_count": 22,
   "metadata": {},
   "outputs": [
    {
     "data": {
      "text/html": [
       "<div>\n",
       "<style scoped>\n",
       "    .dataframe tbody tr th:only-of-type {\n",
       "        vertical-align: middle;\n",
       "    }\n",
       "\n",
       "    .dataframe tbody tr th {\n",
       "        vertical-align: top;\n",
       "    }\n",
       "\n",
       "    .dataframe thead th {\n",
       "        text-align: right;\n",
       "    }\n",
       "</style>\n",
       "<table border=\"1\" class=\"dataframe\">\n",
       "  <thead>\n",
       "    <tr style=\"text-align: right;\">\n",
       "      <th></th>\n",
       "      <th>wage</th>\n",
       "    </tr>\n",
       "  </thead>\n",
       "  <tbody>\n",
       "    <tr>\n",
       "      <th>0</th>\n",
       "      <td>0.019248</td>\n",
       "    </tr>\n",
       "    <tr>\n",
       "      <th>1</th>\n",
       "      <td>0.370805</td>\n",
       "    </tr>\n",
       "    <tr>\n",
       "      <th>2</th>\n",
       "      <td>0.090583</td>\n",
       "    </tr>\n",
       "    <tr>\n",
       "      <th>3</th>\n",
       "      <td>0.474994</td>\n",
       "    </tr>\n",
       "    <tr>\n",
       "      <th>4</th>\n",
       "      <td>0.185525</td>\n",
       "    </tr>\n",
       "    <tr>\n",
       "      <th>...</th>\n",
       "      <td>...</td>\n",
       "    </tr>\n",
       "    <tr>\n",
       "      <th>16276</th>\n",
       "      <td>0.697312</td>\n",
       "    </tr>\n",
       "    <tr>\n",
       "      <th>16277</th>\n",
       "      <td>0.108263</td>\n",
       "    </tr>\n",
       "    <tr>\n",
       "      <th>16278</th>\n",
       "      <td>0.142086</td>\n",
       "    </tr>\n",
       "    <tr>\n",
       "      <th>16279</th>\n",
       "      <td>0.244918</td>\n",
       "    </tr>\n",
       "    <tr>\n",
       "      <th>16280</th>\n",
       "      <td>0.194680</td>\n",
       "    </tr>\n",
       "  </tbody>\n",
       "</table>\n",
       "<p>16281 rows × 1 columns</p>\n",
       "</div>"
      ],
      "text/plain": [
       "           wage\n",
       "0      0.019248\n",
       "1      0.370805\n",
       "2      0.090583\n",
       "3      0.474994\n",
       "4      0.185525\n",
       "...         ...\n",
       "16276  0.697312\n",
       "16277  0.108263\n",
       "16278  0.142086\n",
       "16279  0.244918\n",
       "16280  0.194680\n",
       "\n",
       "[16281 rows x 1 columns]"
      ]
     },
     "execution_count": 22,
     "metadata": {},
     "output_type": "execute_result"
    }
   ],
   "source": [
    "X_output_test = test_data[features]\n",
    "X_output_test_sc = sc.transform(X_output_test)\n",
    "predictions = pd.Series(chosen_model.predict(X_output_test_sc))\n",
    "probabilities = pd.DataFrame([i[1] for i in chosen_model.predict_proba(X_output_test_sc)])\n",
    "output_to_file = probabilities\n",
    "output_to_file.columns=['wage']\n",
    "output_to_file"
   ]
  },
  {
   "cell_type": "code",
   "execution_count": 23,
   "metadata": {},
   "outputs": [],
   "source": [
    "output_to_file.to_csv('./data/predictons.csv',index=False,header=True)"
   ]
  },
  {
   "cell_type": "code",
   "execution_count": 24,
   "metadata": {},
   "outputs": [
    {
     "data": {
      "text/html": [
       "<div>\n",
       "<style scoped>\n",
       "    .dataframe tbody tr th:only-of-type {\n",
       "        vertical-align: middle;\n",
       "    }\n",
       "\n",
       "    .dataframe tbody tr th {\n",
       "        vertical-align: top;\n",
       "    }\n",
       "\n",
       "    .dataframe thead th {\n",
       "        text-align: right;\n",
       "    }\n",
       "</style>\n",
       "<table border=\"1\" class=\"dataframe\">\n",
       "  <thead>\n",
       "    <tr style=\"text-align: right;\">\n",
       "      <th></th>\n",
       "      <th>wage</th>\n",
       "    </tr>\n",
       "  </thead>\n",
       "  <tbody>\n",
       "    <tr>\n",
       "      <th>0</th>\n",
       "      <td>0.019248</td>\n",
       "    </tr>\n",
       "    <tr>\n",
       "      <th>1</th>\n",
       "      <td>0.370805</td>\n",
       "    </tr>\n",
       "    <tr>\n",
       "      <th>2</th>\n",
       "      <td>0.090583</td>\n",
       "    </tr>\n",
       "    <tr>\n",
       "      <th>3</th>\n",
       "      <td>0.474994</td>\n",
       "    </tr>\n",
       "    <tr>\n",
       "      <th>4</th>\n",
       "      <td>0.185525</td>\n",
       "    </tr>\n",
       "    <tr>\n",
       "      <th>...</th>\n",
       "      <td>...</td>\n",
       "    </tr>\n",
       "    <tr>\n",
       "      <th>16276</th>\n",
       "      <td>0.697312</td>\n",
       "    </tr>\n",
       "    <tr>\n",
       "      <th>16277</th>\n",
       "      <td>0.108263</td>\n",
       "    </tr>\n",
       "    <tr>\n",
       "      <th>16278</th>\n",
       "      <td>0.142086</td>\n",
       "    </tr>\n",
       "    <tr>\n",
       "      <th>16279</th>\n",
       "      <td>0.244918</td>\n",
       "    </tr>\n",
       "    <tr>\n",
       "      <th>16280</th>\n",
       "      <td>0.194680</td>\n",
       "    </tr>\n",
       "  </tbody>\n",
       "</table>\n",
       "<p>16281 rows × 1 columns</p>\n",
       "</div>"
      ],
      "text/plain": [
       "           wage\n",
       "0      0.019248\n",
       "1      0.370805\n",
       "2      0.090583\n",
       "3      0.474994\n",
       "4      0.185525\n",
       "...         ...\n",
       "16276  0.697312\n",
       "16277  0.108263\n",
       "16278  0.142086\n",
       "16279  0.244918\n",
       "16280  0.194680\n",
       "\n",
       "[16281 rows x 1 columns]"
      ]
     },
     "execution_count": 24,
     "metadata": {},
     "output_type": "execute_result"
    }
   ],
   "source": [
    "output_to_file"
   ]
  },
  {
   "cell_type": "code",
   "execution_count": 25,
   "metadata": {},
   "outputs": [
    {
     "ename": "FileNotFoundError",
     "evalue": "[Errno 2] No such file or directory: './models/Round_1_LOGREG_Jonna_2020_06_02_03_51_06_.pkl'",
     "output_type": "error",
     "traceback": [
      "\u001b[0;31m---------------------------------------------------------------------------\u001b[0m",
      "\u001b[0;31mFileNotFoundError\u001b[0m                         Traceback (most recent call last)",
      "\u001b[0;32m<ipython-input-25-a3b162cd2c5f>\u001b[0m in \u001b[0;36m<module>\u001b[0;34m\u001b[0m\n\u001b[1;32m      5\u001b[0m               for mtr in model_scores.index]\n\u001b[1;32m      6\u001b[0m \u001b[0;32mfor\u001b[0m \u001b[0mfn\u001b[0m\u001b[0;34m,\u001b[0m\u001b[0mmodel\u001b[0m \u001b[0;32min\u001b[0m \u001b[0mzip\u001b[0m\u001b[0;34m(\u001b[0m\u001b[0mfile_names\u001b[0m\u001b[0;34m,\u001b[0m\u001b[0mmodel_scores\u001b[0m\u001b[0;34m.\u001b[0m\u001b[0mitems\u001b[0m\u001b[0;34m(\u001b[0m\u001b[0;34m)\u001b[0m\u001b[0;34m)\u001b[0m\u001b[0;34m:\u001b[0m\u001b[0;34m\u001b[0m\u001b[0;34m\u001b[0m\u001b[0m\n\u001b[0;32m----> 7\u001b[0;31m     \u001b[0;32mwith\u001b[0m \u001b[0mopen\u001b[0m\u001b[0;34m(\u001b[0m\u001b[0mfn\u001b[0m\u001b[0;34m,\u001b[0m \u001b[0;34m'wb'\u001b[0m\u001b[0;34m)\u001b[0m \u001b[0;32mas\u001b[0m \u001b[0mfile\u001b[0m\u001b[0;34m:\u001b[0m\u001b[0;34m\u001b[0m\u001b[0;34m\u001b[0m\u001b[0m\n\u001b[0m\u001b[1;32m      8\u001b[0m         \u001b[0mpickle\u001b[0m\u001b[0;34m.\u001b[0m\u001b[0mdump\u001b[0m\u001b[0;34m(\u001b[0m\u001b[0mmodel\u001b[0m\u001b[0;34m,\u001b[0m \u001b[0mfile\u001b[0m\u001b[0;34m)\u001b[0m\u001b[0;34m\u001b[0m\u001b[0;34m\u001b[0m\u001b[0m\n\u001b[1;32m      9\u001b[0m         \u001b[0mfile\u001b[0m\u001b[0;34m.\u001b[0m\u001b[0mclose\u001b[0m\u001b[0;34m(\u001b[0m\u001b[0;34m)\u001b[0m\u001b[0;34m\u001b[0m\u001b[0;34m\u001b[0m\u001b[0m\n",
      "\u001b[0;31mFileNotFoundError\u001b[0m: [Errno 2] No such file or directory: './models/Round_1_LOGREG_Jonna_2020_06_02_03_51_06_.pkl'"
     ]
    }
   ],
   "source": [
    "import pickle\n",
    "import datetime\n",
    "current_time = datetime.datetime.now().strftime(\"%Y_%m_%d_%H_%M_%S_\")\n",
    "file_names = [str(f'./models/Round_1_{mtr}_{current_time}.pkl')\n",
    "              for mtr in model_scores.index]\n",
    "for fn,model in zip(file_names,model_scores.items()):\n",
    "    with open(fn, 'wb') as file:\n",
    "        pickle.dump(model, file)\n",
    "        file.close()"
   ]
  },
  {
   "cell_type": "code",
   "execution_count": null,
   "metadata": {},
   "outputs": [],
   "source": []
  },
  {
   "cell_type": "code",
   "execution_count": null,
   "metadata": {},
   "outputs": [],
   "source": []
  },
  {
   "cell_type": "code",
   "execution_count": null,
   "metadata": {},
   "outputs": [],
   "source": []
  }
 ],
 "metadata": {
  "kernelspec": {
   "display_name": "Python 3",
   "language": "python",
   "name": "python3"
  },
  "language_info": {
   "codemirror_mode": {
    "name": "ipython",
    "version": 3
   },
   "file_extension": ".py",
   "mimetype": "text/x-python",
   "name": "python",
   "nbconvert_exporter": "python",
   "pygments_lexer": "ipython3",
   "version": "3.7.6"
  }
 },
 "nbformat": 4,
 "nbformat_minor": 4
}
